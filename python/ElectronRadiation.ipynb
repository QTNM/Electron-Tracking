{
 "cells": [
  {
   "cell_type": "code",
   "execution_count": null,
   "metadata": {
    "slideshow": {
     "slide_type": "skip"
    }
   },
   "outputs": [],
   "source": [
    "import numpy as np\n",
    "import matplotlib.pyplot as plt\n",
    "import sys\n",
    "from scipy.constants import c, electron_mass as me, elementary_charge as qe, epsilon_0 as ep0\n",
    "from matplotlib import animation, rc\n",
    "from IPython.display import HTML\n",
    "import matplotlib.ticker as ticker"
   ]
  },
  {
   "cell_type": "code",
   "execution_count": null,
   "metadata": {
    "slideshow": {
     "slide_type": "skip"
    }
   },
   "outputs": [],
   "source": [
    "from IPython.core.display import HTML\n",
    "HTML(\"\"\"\n",
    "<style>\n",
    ".output_png {\n",
    "    display: table-cell;\n",
    "    text-align: center;\n",
    "    vertical-align: middle;\n",
    "}\n",
    "</style>\n",
    "\"\"\")"
   ]
  },
  {
   "cell_type": "markdown",
   "metadata": {
    "slideshow": {
     "slide_type": "slide"
    }
   },
   "source": [
    "# Coupling Electron Tracing to Radiation Field Diagnostics\n",
    "\n",
    "## QTNM Meeting 11/03/21"
   ]
  },
  {
   "cell_type": "markdown",
   "metadata": {
    "slideshow": {
     "slide_type": "fragment"
    }
   },
   "source": [
    "## Import Non-Relativistic Electron Tracking and Radiation modules\n",
    "\n",
    "```python\n",
    "# Add location of Single Electron Radiation\n",
    "sys.path.insert(1, '/Users/tomgoffrey/dev/QTNM/SingleElectronRadiationQTNM/')\n",
    "import SingleElectronRadiation as SER\n",
    "from ford1991 import analytic_solution, rhs, solve\n",
    "from utils import error_plot, calculate_omega\n",
    "```"
   ]
  },
  {
   "cell_type": "code",
   "execution_count": null,
   "metadata": {
    "slideshow": {
     "slide_type": "skip"
    }
   },
   "outputs": [],
   "source": [
    "# Add location of Single Electron Radiation\n",
    "sys.path.insert(1, '/Users/tomgoffrey/dev/QTNM/SingleElectronRadiationQTNM/')\n",
    "import SingleElectronRadiation as SER\n",
    "from ford1991 import analytic_solution, rhs, solve\n",
    "from utils import error_plot, calculate_omega"
   ]
  },
  {
   "cell_type": "code",
   "execution_count": null,
   "metadata": {
    "slideshow": {
     "slide_type": "skip"
    }
   },
   "outputs": [],
   "source": [
    "%run config.py"
   ]
  },
  {
   "cell_type": "code",
   "execution_count": null,
   "metadata": {
    "slideshow": {
     "slide_type": "slide"
    }
   },
   "outputs": [],
   "source": [
    "print(analytic_solution.__doc__)"
   ]
  },
  {
   "cell_type": "code",
   "execution_count": null,
   "metadata": {
    "slideshow": {
     "slide_type": "slide"
    },
    "tags": [
     "to_remove"
    ]
   },
   "outputs": [],
   "source": [
    "## Test values\n",
    "tau = 0.015\n",
    "B = 3.0\n",
    "q = -1.0\n",
    "m = 1.0\n",
    "\n",
    "# Solve equation numerically\n",
    "res = solve(5, b_field=B, charge=q, mass=m, tau=tau)\n",
    "\n",
    "# Get analytic solution\n",
    "x_soln, y_soln, vx_soln, vy_soln = analytic_solution(res.t, b_field=B, charge=q, mass=m, tau=tau)\n",
    "\n",
    "# Plot result\n",
    "error_plot(res.y[0], res.y[1], x_exact=x_soln, y_exact=y_soln,\n",
    "          title='Electron Trajectory (Test values)', xlabel='x', ylabel='y')\n",
    "plt.gcf().set_size_inches(3,3)\n",
    "ax = plt.gca()\n",
    "ax.set_yticks(plt.xticks()[0])\n",
    "ax.set_ylim(ax.get_xlim())\n",
    "ax.set_aspect(1)\n",
    "plt.tight_layout()"
   ]
  },
  {
   "cell_type": "code",
   "execution_count": null,
   "metadata": {
    "slideshow": {
     "slide_type": "slide"
    }
   },
   "outputs": [],
   "source": [
    "# Set-up detector, centred on (0, 0, 0.05)\n",
    "x1 = 2.5e-2\n",
    "x0 = -x1\n",
    "y1 = 1e-2\n",
    "y0 = -y1\n",
    "z = 0.05\n",
    "npixels = 20\n",
    "# Detector Position Array\n",
    "DPA = SER.CreateDetectorArray(npixels,x0,x1,y0,y1,z)"
   ]
  },
  {
   "cell_type": "code",
   "execution_count": null,
   "metadata": {
    "slideshow": {
     "slide_type": "skip"
    }
   },
   "outputs": [],
   "source": [
    "# Set-up using ~QTNM values\n",
    "B = 1\n",
    "ke = 18.6\n",
    "gamma_rel = 1 + 1e3 * ke * qe / me / c**2\n",
    "beta_rel = np.sqrt(1 - 1 / gamma_rel**2)\n",
    "vel = beta_rel * c # Initial velocity\n",
    "\n",
    "# Calculate omega, with and without relativistic correction\n",
    "omega = calculate_omega(B)\n",
    "omega_rel = calculate_omega(B, energy=18.6)\n",
    "print('omega = %.4E' % omega)\n",
    "print('omega relativistic = %.4E' % omega_rel)"
   ]
  },
  {
   "cell_type": "code",
   "execution_count": null,
   "metadata": {
    "slideshow": {
     "slide_type": "slide"
    }
   },
   "outputs": [],
   "source": [
    "# Get analytic solution at midpoint of rotation\n",
    "time = np.pi / np.abs(omega)\n",
    "x_soln, y_soln, vx_soln, vy_soln = analytic_solution(time, b_field=B, vel0=vel)\n",
    "\n",
    "x = [x_soln, y_soln, vx_soln, vy_soln, 0.0]\n",
    "\n",
    "# Also need acceleration\n",
    "_, _, accx, accy, _ = rhs(time, x, omega, me, 0.0)"
   ]
  },
  {
   "cell_type": "code",
   "execution_count": null,
   "metadata": {
    "slideshow": {
     "slide_type": "fragment"
    },
    "tags": [
     "to_remove"
    ]
   },
   "outputs": [],
   "source": [
    "# Daniel's code assumes negative x-direction B-field, so transform accordingly\n",
    "EField = SER.CalcNonRelEFieldArray(DPA, time, [0, y_soln, x_soln], [0, accy, accx], npixels)\n",
    "Emag = np.linalg.norm(EField,axis=2)   \n",
    "p = plt.pcolormesh(Emag*1e6)\n",
    "cbar = plt.colorbar(p)\n",
    "cbar.set_label(r'$|\\vec{E}|\\;\\mathrm{\\mu V m^{-1}}$', rotation=90, fontsize=12)\n",
    "plt.tight_layout()"
   ]
  },
  {
   "cell_type": "code",
   "execution_count": null,
   "metadata": {
    "slideshow": {
     "slide_type": "skip"
    }
   },
   "outputs": [],
   "source": [
    "# Poynting flux magnitude - Does this need multiplying by pixel area?\n",
    "Poynting = SER.CalcPoyntingVectorMagnitude(Emag)\n",
    "p = plt.pcolormesh(Poynting*1e15)\n",
    "plt.colorbar(p)\n",
    "plt.tight_layout()"
   ]
  },
  {
   "cell_type": "code",
   "execution_count": null,
   "metadata": {
    "slideshow": {
     "slide_type": "slide"
    },
    "tags": [
     "to_remove"
    ]
   },
   "outputs": [],
   "source": [
    "## Actual values\n",
    "## 6.26e-24\n",
    "tau = qe * qe / (6.0 * np.pi * ep0 * c**3 * me)\n",
    "\n",
    "# Solve equation numerically\n",
    "res = solve(1, tau=tau, vel0=vel)\n",
    "\n",
    "# Get analytic solution\n",
    "x_soln, y_soln, vx_soln, vy_soln = analytic_solution(res.t, tau=tau, vel0=vel)\n",
    "\n",
    "# Plot result\n",
    "error_plot(res.y[0] * 1000, res.y[1] * 1000, x_exact=x_soln * 1000, y_exact=y_soln * 1000,\n",
    "          title='Electron Trajectory', xlabel='x (mm)', ylabel='y (mm)')\n",
    "plt.gcf().set_size_inches(3.25,3.25)\n",
    "ax = plt.gca()\n",
    "ax.set_yticks(plt.xticks()[0])\n",
    "ax.set_ylim(ax.get_xlim())\n",
    "ax.set_aspect(1)\n",
    "plt.tight_layout()"
   ]
  },
  {
   "cell_type": "code",
   "execution_count": null,
   "metadata": {
    "slideshow": {
     "slide_type": "skip"
    }
   },
   "outputs": [],
   "source": [
    "# Solve equation numerically for 100 rotations\n",
    "n_rot = 100\n",
    "\n",
    "res = solve(n_rot, tau=tau, vel0=vel)\n",
    "\n",
    "# Get analytic solution\n",
    "x_soln, y_soln, vx_soln, vy_soln = analytic_solution(res.t, tau=tau, vel0=vel)"
   ]
  },
  {
   "cell_type": "code",
   "execution_count": null,
   "metadata": {
    "slideshow": {
     "slide_type": "slide"
    },
    "tags": [
     "to_remove"
    ]
   },
   "outputs": [],
   "source": [
    "# Kinetic energy of electron as function of time\n",
    "ke = 0.5 * me * (res.y[2]**2 + res.y[3]**2)\n",
    "# Analytic solution\n",
    "mu = omega**2 * tau\n",
    "taue = - 2.0 * mu / (1.0 + tau**2)\n",
    "\n",
    "error_plot(res.t * np.abs(omega), 1.0 - ke / ke[0], y_exact=1.0 - np.exp(taue * res.t),\n",
    "           title='Fractional Electron Energy Loss', xlabel=r'$\\omega_c t$', \n",
    "           ylabel=r'$\\frac{\\Delta T}{T_0}$')\n",
    "plt.gcf().set_size_inches(5,3)\n",
    "plt.title('Fractional Electron Energy Loss', y=1.08, fontsize=14)\n",
    "plt.tight_layout()"
   ]
  },
  {
   "cell_type": "code",
   "execution_count": null,
   "metadata": {
    "slideshow": {
     "slide_type": "skip"
    },
    "tags": [
     "to_remove"
    ]
   },
   "outputs": [],
   "source": [
    "rad = np.sqrt(res.y[1]**2 + res.y[0]**2)\n",
    "rad_exact = np.sqrt(y_soln**2 + x_soln**2)\n",
    "error_plot(res.t * np.abs(omega), rad/rad[0] - 1.0, y_exact=rad_exact/rad_exact[0] - 1.0,\n",
    "           xlabel='$\\omega_c t$', ylabel=r'$\\frac{\\Delta r}{r(t=0)}$')\n",
    "plt.title('Fractional Change in Radius', y=1.08, fontsize=14)\n",
    "plt.tight_layout()"
   ]
  },
  {
   "cell_type": "code",
   "execution_count": null,
   "metadata": {
    "slideshow": {
     "slide_type": "skip"
    }
   },
   "outputs": [],
   "source": [
    "frames_per_rot = 25\n",
    "frames = n_rot * frames_per_rot\n",
    "cadence = int(len(res.t) / frames)\n",
    "\n",
    "# Only animate first 5 orbits\n",
    "frames = int(frames / 20)\n",
    "i = 0\n",
    "\n",
    "time  = res.t[i]\n",
    "Epos = [0.0, res.y[1,i], -res.y[0,i]]\n",
    "_, _, accx, accy, _ = rhs(time, res.y[:,i], omega, me, tau)\n",
    "Eacc = [0.0, accy, accx]\n",
    "\n",
    "EField = SER.CalcNonRelEFieldArray(DPA, time, Epos, Eacc, npixels)\n",
    "Emag = np.linalg.norm(EField,axis=2)   \n",
    "Ex = EField[:,:,0]\n",
    "Ey = EField[:,:,1]\n",
    "Ez = EField[:,:,2]\n",
    "\n",
    "fig, ax = plt.subplots(1,1)\n",
    "Q = ax.quiver(DPA[:,:,0] * 100, DPA[:,:,1] * 100, Ex, Ey)\n",
    "plt.xlabel('x(cm)')\n",
    "plt.ylabel('y(cm)')\n",
    "plt.title('Electric Field')\n",
    "plt.tight_layout()\n",
    "\n",
    "def update_plot(i, Q):\n",
    "    j = i * cadence\n",
    "    time  = res.t[j]\n",
    "    Epos = [0.0, res.y[1,j], -res.y[0,j]]\n",
    "    _, _, accx, accy, _ = rhs(time, res.y[:,j], omega, me, tau)\n",
    "    Eacc = [0.0, accy, accx]\n",
    "\n",
    "    EField = SER.CalcNonRelEFieldArray(DPA, time, Epos, Eacc, npixels)  \n",
    "    Ex = EField[:,:,0]\n",
    "    Ey = EField[:,:,1]\n",
    "    Q.set_UVC(Ex, Ey)\n",
    "    \n",
    "    return Q,\n",
    "\n",
    "\n",
    "anim = animation.FuncAnimation(fig, update_plot, fargs=(Q,), frames=frames, \n",
    "                               interval=200, blit=False)\n",
    "\n",
    "fig.tight_layout()\n",
    "plt.show()"
   ]
  },
  {
   "cell_type": "code",
   "execution_count": null,
   "metadata": {
    "slideshow": {
     "slide_type": "slide"
    },
    "tags": [
     "to_remove"
    ]
   },
   "outputs": [],
   "source": [
    "plt.rcParams['animation.embed_limit'] = 2**128\n",
    "HTML(anim.to_jshtml())"
   ]
  },
  {
   "cell_type": "code",
   "execution_count": null,
   "metadata": {
    "slideshow": {
     "slide_type": "skip"
    }
   },
   "outputs": [],
   "source": [
    "def calc_emag(j):\n",
    "    time  = res.t[j]\n",
    "    Epos = [0.0, res.y[1,j], -res.y[0,j]]\n",
    "    _, _, accx, accy, _ = rhs(time, res.y[:,j], omega, me, tau)\n",
    "    Eacc = [0.0, accy, accx]\n",
    "    EField = SER.CalcNonRelEFieldArray(DPA, time, Epos, Eacc, npixels)\n",
    "    Emag = np.linalg.norm(EField,axis=2)   \n",
    "\n",
    "    return Emag\n",
    "\n",
    "\n",
    "Emin = 1e100\n",
    "Emax = 0.0\n",
    "\n",
    "for i in range(frames):\n",
    "    Emag = calc_emag(i*cadence)\n",
    "    Emin = min(np.min(Emag), Emin)\n",
    "    Emax = max(np.max(Emag), Emax)\n",
    "\n",
    "Emag = calc_emag(0)\n",
    "fig, ax = plt.subplots(1,1)\n",
    "data = plt.pcolormesh(DPA[:,:,0]*100, DPA[:,:,1]*100, Emag,\n",
    "                      vmin=Emin, vmax=Emax, shading='gouraud')\n",
    "\n",
    "def fmt(x, pos):\n",
    "    a, b = '{:1.0e}'.format(x).split('e')\n",
    "    b = int(b)\n",
    "    return r'${} \\times 10^{{{}}}$'.format(a, b)\n",
    "\n",
    "cb = plt.colorbar(data, format=ticker.FuncFormatter(fmt))\n",
    "cb.ax.tick_params(labelsize=10)\n",
    "\n",
    "plt.xlabel('x(cm)')\n",
    "plt.ylabel('y(cm)')\n",
    "plt.title('Electric Field Magnitude', y=1.08)\n",
    "\n",
    "plt.tight_layout()\n",
    "\n",
    "def update_plot(i, data):\n",
    "    j = i * cadence\n",
    "    Emag = calc_emag(j)\n",
    "    data.set_array(Emag)\n",
    "    \n",
    "    return data,\n",
    "\n",
    "\n",
    "anim = animation.FuncAnimation(fig, update_plot, fargs=(data,), frames=frames, \n",
    "                               interval=200, blit=False)\n",
    "\n",
    "fig.tight_layout()\n",
    "plt.show()"
   ]
  },
  {
   "cell_type": "code",
   "execution_count": null,
   "metadata": {
    "slideshow": {
     "slide_type": "slide"
    },
    "tags": [
     "to_remove"
    ]
   },
   "outputs": [],
   "source": [
    "HTML(anim.to_jshtml())"
   ]
  }
 ],
 "metadata": {
  "celltoolbar": "Slideshow",
  "kernelspec": {
   "display_name": "Python 3",
   "language": "python",
   "name": "python3"
  },
  "language_info": {
   "codemirror_mode": {
    "name": "ipython",
    "version": 3
   },
   "file_extension": ".py",
   "mimetype": "text/x-python",
   "name": "python",
   "nbconvert_exporter": "python",
   "pygments_lexer": "ipython3",
   "version": "3.9.4"
  }
 },
 "nbformat": 4,
 "nbformat_minor": 4
}
