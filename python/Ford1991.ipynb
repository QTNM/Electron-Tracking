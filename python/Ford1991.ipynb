{
 "cells": [
  {
   "cell_type": "markdown",
   "metadata": {},
   "source": [
    "# Electron equation of motion due to Lorentz force and [Ford&O'Connell1991](http://citeseerx.ist.psu.edu/viewdoc/download?doi=10.1.1.524.6982&rep=rep1&type=pdf) form of the Abraham-Lorentz force\n",
    "\n",
    "\\begin{align*}\n",
    "m_e \\frac{d \\vec{v}}{d t} &= \\vec{F}_{Lorentz} + \\frac{q^2}{6 \\pi \\epsilon_0 c^3 m_e}\\left(\\frac{d \\vec{F}_{Lorentz}}{dt}\\right)\\\\\n",
    "&= \\vec{F}_{Lorentz} + \\tau\\left(\\frac{d \\vec{F}_{Lorentz}}{dt}\\right)\n",
    "\\end{align*}\n",
    "\n",
    "<div class=\"alert alert-block alert-danger\">\n",
    "<b>Note:</b> Above equation is in SI. Ford and O'Connell is in CGS.\n",
    "</div>"
   ]
  },
  {
   "cell_type": "code",
   "execution_count": null,
   "metadata": {},
   "outputs": [],
   "source": [
    "import numpy as np\n",
    "import matplotlib.pyplot as plt\n",
    "from scipy.integrate import solve_ivp"
   ]
  },
  {
   "cell_type": "code",
   "execution_count": null,
   "metadata": {},
   "outputs": [],
   "source": [
    "plt.rcParams['figure.figsize'] = [4.5, 3]\n",
    "plt.rcParams['figure.dpi'] = 200\n",
    "plt.rcParams['lines.linewidth'] = 1.5\n",
    "plt.rcParams['lines.dashed_pattern'] = [3.5,3.5]"
   ]
  },
  {
   "cell_type": "code",
   "execution_count": null,
   "metadata": {},
   "outputs": [],
   "source": [
    "# Problem parameters. Not real values\n",
    "B = 1.5\n",
    "m = 3\n",
    "q = -1\n",
    "\n",
    "# Note, this is a signed value\n",
    "omega = B * q / m\n",
    "\n",
    "tau = 0.025 # Not the real value. Chosen to test scheme"
   ]
  },
  {
   "cell_type": "code",
   "execution_count": null,
   "metadata": {},
   "outputs": [],
   "source": [
    "# A very basic error plotting routine\n",
    "def error_plot(x, y, x_exact=None, y_exact=None, title=None, xlabel=None, ylabel=None):\n",
    "    plt.plot(x, y)\n",
    "    \n",
    "    if y_exact is not None:\n",
    "        if x_exact is not None:\n",
    "            plt.plot(x_exact, y_exact, linestyle='--')\n",
    "        else:\n",
    "            plt.plot(x, y_exact, linestyle='--')\n",
    "            \n",
    "    plt.title(title, fontsize=14)\n",
    "    plt.xlabel(xlabel, fontsize=12)\n",
    "    plt.ylabel(ylabel, fontsize=12)\n",
    "    \n",
    "    if np.all(x >= 0.0):\n",
    "        plt.xlim(left=0.0)\n",
    "    \n",
    "    plt.tight_layout()"
   ]
  },
  {
   "cell_type": "markdown",
   "metadata": {},
   "source": [
    "## Rewrite RHS of Ford 1991 from:\n",
    "\n",
    "\\begin{align*}\n",
    "m \\frac{dv_x}{dt} &= q v_y B_z + q B_z \\tau \\frac{d}{dt}v_y \\\\\n",
    "m \\frac{dv_y}{dt} &= - q v_x B_z - q B_z \\tau \\frac{d}{dt}v_x \\\\\n",
    "\\end{align*}\n",
    "\n",
    "## To:\n",
    "\n",
    "\\begin{align*}\n",
    "\\frac{d v_x}{dt} &= \\left(\\omega v_y - \\omega^2 \\tau v_x\\right)\\left(\\frac{1}{1 + \\omega^2 \\tau^2}\\right)\\\\\n",
    "\\frac{d v_y}{dt} &= \\left(-\\omega v_x - \\omega^2 \\tau v_y\\right)\\left(\\frac{1}{1 + \\omega^2 \\tau^2}\\right)\n",
    "\\end{align*}\n",
    "\n",
    "Where $\\omega = \\frac{qB_z}{m}$ is the ***signed*** angular frequency."
   ]
  },
  {
   "cell_type": "code",
   "execution_count": null,
   "metadata": {},
   "outputs": [],
   "source": [
    "# RHS according to Ford & O'Connell (1991). Non-relativistic\n",
    "def rhs_ford1991(t, x, q, m, B, tau):\n",
    "    # Note, this is a signed value\n",
    "    omega = B * q / m\n",
    "    \n",
    "    ax = (omega * x[3] - tau * omega**2 * x[2]) / (1 + tau**2 * omega**2)\n",
    "    ay = (-omega * x[2] - tau * omega**2 * x[3]) / (1 + tau**2 * omega**2)\n",
    "    return [x[2], x[3], ax, ay]"
   ]
  },
  {
   "cell_type": "markdown",
   "metadata": {},
   "source": [
    "## Writing $\\mu = \\tau \\omega^2$, the velocity solution is:\n",
    "\n",
    "\\begin{align*}\n",
    "v_x &= \\frac{e^{-\\mu t} \\sin(\\omega t)}{1 + \\tau^2 \\omega^2} \\\\\n",
    "v_y &= \\frac{e^{-\\mu t} \\cos(\\omega t)}{1 + \\tau^2 \\omega^2}\n",
    "\\end{align*}\n",
    "\n",
    "## Integrate to obtain position solutions:\n",
    "\n",
    "\\begin{align*}\n",
    "x &= \\frac{-e^{-\\mu t} \\left(\\mu\\sin(\\omega t) + \\omega \\cos(\\omega t)\\right)}{\\left(\\omega^2 + \\mu^2\\right)\\left(1 + \\tau^2 \\omega^2\\right)} \\\\\n",
    "y &= \\frac{e^{-\\mu t} \\left(\\omega\\sin(\\omega t) - \\mu \\cos(\\omega t)\\right)}{\\left(\\omega^2 + \\mu^2\\right)\\left(1 + \\tau^2 \\omega^2\\right)}\n",
    "\\end{align*}"
   ]
  },
  {
   "cell_type": "code",
   "execution_count": null,
   "metadata": {},
   "outputs": [],
   "source": [
    "# Analytic solution. Assumes motion initially vertical\n",
    "def analytic_solution(t, q, m, B, tau):\n",
    "    omega = q * B / m\n",
    "    mu = tau * omega**2\n",
    "    \n",
    "    vx_soln = (np.exp(-mu * t) * np.sin(omega*t)) / (1.0 + tau**2 * omega**2)\n",
    "    vy_soln = (np.exp(-mu * t) * np.cos(omega*t)) / (1.0 + tau**2 * omega**2)\n",
    "\n",
    "    x_soln = -np.exp(-mu * t) * (mu * np.sin(omega * t)\n",
    "                                   + omega * np.cos(omega * t)) / ((omega**2 + mu**2)\n",
    "                                                                   * (1 + tau**2 * omega**2))\n",
    "    y_soln = np.exp(-mu * t) * (omega * np.sin(omega * t)\n",
    "                                   - mu * np.cos(omega * t)) / ((omega**2 + mu**2)\n",
    "                                                                * (1 + tau**2 * omega**2))\n",
    "    return x_soln, y_soln, vx_soln, vy_soln"
   ]
  },
  {
   "cell_type": "code",
   "execution_count": null,
   "metadata": {},
   "outputs": [],
   "source": [
    "# Solve Ford&O'Connell 1991 for n rotations\n",
    "def solve_ford1991(n, q, m, B, tau):\n",
    "    # Maximum timestep. Could probably be smaller\n",
    "    max_step = 1e-3 / np.abs(omega)\n",
    "\n",
    "    # Set initial conditions\n",
    "    x0, y0, vx0, vy0 = analytic_solution(0, q, m, B, tau)\n",
    "    # Note that for tau /= 0, both x0 and y0 and non-zero\n",
    "    ic = [x0, y0, vx0, vy0]\n",
    "\n",
    "    res = solve_ivp(rhs_ford1991, (0,n * 2.0 * np.pi / np.abs(omega)), ic, max_step=max_step, args=[q, m, B, tau])\n",
    "    \n",
    "    return res"
   ]
  },
  {
   "cell_type": "code",
   "execution_count": null,
   "metadata": {},
   "outputs": [],
   "source": [
    "res = solve_ford1991(5, q, m, B, tau)"
   ]
  },
  {
   "cell_type": "code",
   "execution_count": null,
   "metadata": {},
   "outputs": [],
   "source": [
    "# Get analytic solution\n",
    "x_soln, y_soln, vx_soln, vy_soln = analytic_solution(res.t, q, m, B, tau)"
   ]
  },
  {
   "cell_type": "code",
   "execution_count": null,
   "metadata": {},
   "outputs": [],
   "source": [
    "error_plot(res.y[0], res.y[1], x_exact=x_soln, y_exact=y_soln,\n",
    "          title='Electron Trajectory', xlabel='x', ylabel='y')"
   ]
  },
  {
   "cell_type": "code",
   "execution_count": null,
   "metadata": {},
   "outputs": [],
   "source": [
    "ke = 0.5 * m * (res.y[2]**2 + res.y[3]**2)\n",
    "mu = omega**2 * tau\n",
    "taue = - 2.0 * mu / (1.0 + tau**2)\n",
    "error_plot(res.t, ke, y_exact=ke[0]*np.exp(taue * res.t), title='Energy decay',\n",
    "          xlabel='t', ylabel='Electron energy')"
   ]
  },
  {
   "cell_type": "code",
   "execution_count": null,
   "metadata": {},
   "outputs": [],
   "source": [
    "error_plot(res.t, res.y[2], y_exact=vx_soln, xlabel='t', ylabel=r'$v_x$')"
   ]
  },
  {
   "cell_type": "code",
   "execution_count": null,
   "metadata": {},
   "outputs": [],
   "source": [
    "error_plot(res.t, res.y[3], y_exact=vy_soln, xlabel='t', ylabel=r'$v_y$')"
   ]
  },
  {
   "cell_type": "code",
   "execution_count": null,
   "metadata": {},
   "outputs": [],
   "source": [
    "error_plot(res.t, res.y[0], y_exact=x_soln, xlabel='t', ylabel=r'$x$')"
   ]
  },
  {
   "cell_type": "code",
   "execution_count": null,
   "metadata": {},
   "outputs": [],
   "source": [
    "error_plot(res.t, res.y[1], y_exact=y_soln, xlabel='t', ylabel=r'$y$')"
   ]
  },
  {
   "cell_type": "code",
   "execution_count": null,
   "metadata": {},
   "outputs": [],
   "source": [
    "rad = np.sqrt(res.y[1]**2 + res.y[0]**2)\n",
    "rad_exact = np.sqrt(y_soln**2 + x_soln**2)\n",
    "error_plot(res.t, rad, y_exact=rad_exact, xlabel='t', ylabel=r'radius')"
   ]
  },
  {
   "cell_type": "code",
   "execution_count": null,
   "metadata": {},
   "outputs": [],
   "source": [
    "# Error in x,y as a function of time\n",
    "plt.plot(res.t, res.y[0] - x_soln)\n",
    "plt.plot(res.t, res.y[1] - y_soln)"
   ]
  },
  {
   "cell_type": "code",
   "execution_count": null,
   "metadata": {},
   "outputs": [],
   "source": [
    "# Error in v_x, v_y as a function of time\n",
    "plt.plot(res.t, res.y[2] - vx_soln)\n",
    "plt.plot(res.t, res.y[3] - vy_soln)"
   ]
  }
 ],
 "metadata": {
  "kernelspec": {
   "display_name": "Python 3",
   "language": "python",
   "name": "python3"
  },
  "language_info": {
   "codemirror_mode": {
    "name": "ipython",
    "version": 3
   },
   "file_extension": ".py",
   "mimetype": "text/x-python",
   "name": "python",
   "nbconvert_exporter": "python",
   "pygments_lexer": "ipython3",
   "version": "3.7.9"
  }
 },
 "nbformat": 4,
 "nbformat_minor": 4
}
