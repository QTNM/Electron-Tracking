{
 "cells": [
  {
   "cell_type": "markdown",
   "metadata": {},
   "source": [
    "# Electron equation of motion due to Lorentz force and [Ford&O'Connell1991](http://citeseerx.ist.psu.edu/viewdoc/download?doi=10.1.1.524.6982&rep=rep1&type=pdf) form of the Abraham-Lorentz force\n",
    "\n",
    "\\begin{align*}\n",
    "m_e \\frac{d \\vec{v}}{d t} &= \\vec{F}_{Lorentz} + \\frac{q^2}{6 \\pi \\epsilon_0 c^3 m_e}\\left(\\frac{d \\vec{F}_{Lorentz}}{dt}\\right)\\\\\n",
    "&= \\vec{F}_{Lorentz} + \\tau\\left(\\frac{d \\vec{F}_{Lorentz}}{dt}\\right)\n",
    "\\end{align*}\n",
    "\n",
    "<div class=\"alert alert-block alert-danger\">\n",
    "<b>Note:</b> Above equation is in SI. Ford and O'Connell is in CGS.\n",
    "</div>"
   ]
  },
  {
   "cell_type": "code",
   "execution_count": null,
   "metadata": {},
   "outputs": [],
   "source": [
    "%run config.py\n",
    "from ford1991 import analytic_solution, solve\n",
    "from utils import error_plot"
   ]
  },
  {
   "cell_type": "markdown",
   "metadata": {},
   "source": [
    "## Rewrite RHS of Ford 1991 from:\n",
    "\n",
    "\\begin{align*}\n",
    "m \\frac{dv_x}{dt} &= q v_y B_z + q B_z \\tau \\frac{d}{dt}v_y \\\\\n",
    "m \\frac{dv_y}{dt} &= - q v_x B_z - q B_z \\tau \\frac{d}{dt}v_x \\\\\n",
    "\\end{align*}\n",
    "\n",
    "## To:\n",
    "\n",
    "\\begin{align*}\n",
    "\\frac{d v_x}{dt} &= \\left(\\omega v_y - \\omega^2 \\tau v_x\\right)\\left(\\frac{1}{1 + \\omega^2 \\tau^2}\\right)\\\\\n",
    "\\frac{d v_y}{dt} &= \\left(-\\omega v_x - \\omega^2 \\tau v_y\\right)\\left(\\frac{1}{1 + \\omega^2 \\tau^2}\\right)\n",
    "\\end{align*}\n",
    "\n",
    "Where $\\omega = \\frac{qB_z}{m}$ is the ***signed*** angular frequency."
   ]
  },
  {
   "cell_type": "markdown",
   "metadata": {},
   "source": [
    "## Writing $\\mu = \\tau \\omega^2$, the velocity solution is:\n",
    "\n",
    "\\begin{align*}\n",
    "v_x &= \\frac{e^{-\\mu t} \\sin(\\omega t)}{1 + \\tau^2 \\omega^2} \\\\\n",
    "v_y &= \\frac{e^{-\\mu t} \\cos(\\omega t)}{1 + \\tau^2 \\omega^2}\n",
    "\\end{align*}\n",
    "\n",
    "## Integrate to obtain position solutions:\n",
    "\n",
    "\\begin{align*}\n",
    "x &= \\frac{-e^{-\\mu t} \\left(\\mu\\sin(\\omega t) + \\omega \\cos(\\omega t)\\right)}{\\left(\\omega^2 + \\mu^2\\right)\\left(1 + \\tau^2 \\omega^2\\right)} \\\\\n",
    "y &= \\frac{e^{-\\mu t} \\left(\\omega\\sin(\\omega t) - \\mu \\cos(\\omega t)\\right)}{\\left(\\omega^2 + \\mu^2\\right)\\left(1 + \\tau^2 \\omega^2\\right)}\n",
    "\\end{align*}"
   ]
  },
  {
   "cell_type": "code",
   "execution_count": null,
   "metadata": {},
   "outputs": [],
   "source": [
    "# Problem parameters. Not real values\n",
    "B = 1.5\n",
    "m = 3\n",
    "q = -1\n",
    "\n",
    "# Note, this is a signed value\n",
    "omega = B * q / m\n",
    "\n",
    "tau = 0.025 # Not the real value. Chosen to test scheme"
   ]
  },
  {
   "cell_type": "code",
   "execution_count": null,
   "metadata": {},
   "outputs": [],
   "source": [
    "# Solve equation numerically\n",
    "res = solve(5, b0=B, mass=m, charge=q, tau=tau)\n",
    "\n",
    "# Get analytic solution\n",
    "x_soln, y_soln, vx_soln, vy_soln = analytic_solution(res.t, b_field=B, mass=m, charge=q, tau=tau)\n",
    "\n",
    "# Plot result\n",
    "error_plot(res.y[0], res.y[1], x_exact=x_soln, y_exact=y_soln,\n",
    "          title='Electron Trajectory', xlabel='x', ylabel='y')"
   ]
  },
  {
   "cell_type": "code",
   "execution_count": null,
   "metadata": {},
   "outputs": [],
   "source": [
    "# Kinetic energy of electron as function of time\n",
    "ke = 0.5 * m * (res.y[2]**2 + res.y[3]**2)\n",
    "# Analytic solution\n",
    "mu = omega**2 * tau\n",
    "taue = - 2.0 * mu\n",
    "\n",
    "error_plot(res.t, ke, y_exact=ke[0]*np.exp(taue * res.t), title='Energy decay',\n",
    "          xlabel='t', ylabel='Electron energy')"
   ]
  },
  {
   "cell_type": "code",
   "execution_count": null,
   "metadata": {},
   "outputs": [],
   "source": [
    "et = ke + res.y[4]\n",
    "error_plot(res.t, np.abs(et - et[0]) / et[0], xlabel='t', ylabel='Fractional Error',\n",
    "          title='Energy Conservation Error')"
   ]
  },
  {
   "cell_type": "code",
   "execution_count": null,
   "metadata": {},
   "outputs": [],
   "source": [
    "error_plot(res.t, res.y[2], y_exact=vx_soln, xlabel='t', ylabel=r'$v_x$')"
   ]
  },
  {
   "cell_type": "code",
   "execution_count": null,
   "metadata": {},
   "outputs": [],
   "source": [
    "error_plot(res.t, res.y[3], y_exact=vy_soln, xlabel='t', ylabel=r'$v_y$')"
   ]
  },
  {
   "cell_type": "code",
   "execution_count": null,
   "metadata": {},
   "outputs": [],
   "source": [
    "error_plot(res.t, res.y[0], y_exact=x_soln, xlabel='t', ylabel=r'$x$')"
   ]
  },
  {
   "cell_type": "code",
   "execution_count": null,
   "metadata": {},
   "outputs": [],
   "source": [
    "error_plot(res.t, res.y[1], y_exact=y_soln, xlabel='t', ylabel=r'$y$')"
   ]
  },
  {
   "cell_type": "code",
   "execution_count": null,
   "metadata": {},
   "outputs": [],
   "source": [
    "rad = np.sqrt(res.y[1]**2 + res.y[0]**2)\n",
    "rad_exact = np.sqrt(y_soln**2 + x_soln**2)\n",
    "error_plot(res.t, rad, y_exact=rad_exact, xlabel='t', ylabel=r'radius')"
   ]
  },
  {
   "cell_type": "code",
   "execution_count": null,
   "metadata": {},
   "outputs": [],
   "source": [
    "# Error in x,y as a function of time\n",
    "plt.plot(res.t, res.y[0] - x_soln)\n",
    "plt.plot(res.t, res.y[1] - y_soln)"
   ]
  },
  {
   "cell_type": "code",
   "execution_count": null,
   "metadata": {},
   "outputs": [],
   "source": [
    "# Error in v_x, v_y as a function of time\n",
    "plt.plot(res.t, res.y[2] - vx_soln)\n",
    "plt.plot(res.t, res.y[3] - vy_soln)"
   ]
  },
  {
   "cell_type": "code",
   "execution_count": null,
   "metadata": {},
   "outputs": [],
   "source": [
    "# Change v0\n",
    "v0 = 3.15\n",
    "res = solve(5, b0=B, mass=m, charge=q, tau=tau, v0=v0)\n",
    "\n",
    "# Get analytic solution\n",
    "x_soln, y_soln, vx_soln, vy_soln = analytic_solution(res.t, b_field=B, mass=m, charge=q, tau=tau, vel0=v0)\n",
    "\n",
    "# Plot result\n",
    "error_plot(res.y[0], res.y[1], x_exact=x_soln, y_exact=y_soln,\n",
    "          title='Electron Trajectory', xlabel='x', ylabel='y')"
   ]
  },
  {
   "cell_type": "code",
   "execution_count": null,
   "metadata": {},
   "outputs": [],
   "source": [
    "# Error in v_x, v_y as a function of time\n",
    "plt.plot(res.t, res.y[2] - vx_soln)\n",
    "plt.plot(res.t, res.y[3] - vy_soln)"
   ]
  },
  {
   "cell_type": "code",
   "execution_count": null,
   "metadata": {},
   "outputs": [],
   "source": [
    "# Error in x,y as a function of time\n",
    "plt.plot(res.t, res.y[0] - x_soln)\n",
    "plt.plot(res.t, res.y[1] - y_soln)"
   ]
  },
  {
   "cell_type": "code",
   "execution_count": null,
   "metadata": {},
   "outputs": [],
   "source": [
    "# Change v0 direction\n",
    "vel0 = [1, 1]\n",
    "res = solve(5, b0=B, mass=m, charge=q, tau=tau, v0=vel0)\n",
    "\n",
    "# Get analytic solution\n",
    "x_soln, y_soln, vx_soln, vy_soln = analytic_solution(res.t, b_field=B, mass=m, charge=q, tau=tau, vel0=vel0)\n",
    "\n",
    "# Plot result\n",
    "error_plot(res.y[0], res.y[1], x_exact=x_soln, y_exact=y_soln,\n",
    "          title='Electron Trajectory', xlabel='x', ylabel='y')"
   ]
  },
  {
   "cell_type": "code",
   "execution_count": null,
   "metadata": {},
   "outputs": [],
   "source": [
    "# Error in x,y as a function of time\n",
    "plt.plot(res.t, res.y[0] - x_soln)\n",
    "plt.plot(res.t, res.y[1] - y_soln)"
   ]
  },
  {
   "cell_type": "code",
   "execution_count": null,
   "metadata": {},
   "outputs": [],
   "source": [
    "# Change v0 direction\n",
    "vel0 = [1, 0]\n",
    "res = solve(5, b0=B, mass=m, charge=q, tau=tau, v0=vel0)\n",
    "\n",
    "# Get analytic solution\n",
    "x_soln, y_soln, vx_soln, vy_soln = analytic_solution(res.t, b_field=B, mass=m, charge=q, tau=tau, vel0=vel0)\n",
    "\n",
    "# Plot result\n",
    "error_plot(res.y[0], res.y[1], x_exact=x_soln, y_exact=y_soln,\n",
    "          title='Electron Trajectory', xlabel='x', ylabel='y')"
   ]
  },
  {
   "cell_type": "code",
   "execution_count": null,
   "metadata": {},
   "outputs": [],
   "source": [
    "# Error in x,y as a function of time\n",
    "plt.plot(res.t, res.y[0] - x_soln)\n",
    "plt.plot(res.t, res.y[1] - y_soln)"
   ]
  }
 ],
 "metadata": {
  "kernelspec": {
   "display_name": "Python 3",
   "language": "python",
   "name": "python3"
  },
  "language_info": {
   "codemirror_mode": {
    "name": "ipython",
    "version": 3
   },
   "file_extension": ".py",
   "mimetype": "text/x-python",
   "name": "python",
   "nbconvert_exporter": "python",
   "pygments_lexer": "ipython3",
   "version": "3.9.4"
  }
 },
 "nbformat": 4,
 "nbformat_minor": 4
}
