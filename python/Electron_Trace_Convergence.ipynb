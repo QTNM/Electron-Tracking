{
 "cells": [
  {
   "cell_type": "markdown",
   "id": "d6daa79f",
   "metadata": {},
   "source": [
    "# Some tests of convergence for electron trace wrt dt\n",
    "\n",
    "## Some of these runs are slow ~20 minutes. Not useful for paramater scans, but indicate that ~10 steps per orbit is sufficient"
   ]
  },
  {
   "cell_type": "code",
   "execution_count": null,
   "id": "68025eb3",
   "metadata": {},
   "outputs": [],
   "source": [
    "%run config.py"
   ]
  },
  {
   "cell_type": "code",
   "execution_count": null,
   "id": "c8fe0c60",
   "metadata": {},
   "outputs": [],
   "source": [
    "from ford1991 import solve_3d\n",
    "from scipy.constants import c, electron_mass as me, elementary_charge as qe, mu_0 as mu0\n",
    "from qtnm_fields import Coil_Field, Bath_Tub_Field"
   ]
  },
  {
   "cell_type": "code",
   "execution_count": null,
   "id": "1b8fcfd9",
   "metadata": {},
   "outputs": [],
   "source": [
    "# Deflection from beam direction in degrees\n",
    "theta_deg = -1\n",
    "theta = np.deg2rad(theta_deg)\n",
    "# Initial kinetic energy (eV)\n",
    "T = 18600\n",
    "# Rel. gamma\n",
    "gamma_rel = T * qe / (me*c**2) + 1\n",
    "# (v/c)^2\n",
    "beta_sq = 1 - 1 / gamma_rel**2\n",
    "# Initial electron speed\n",
    "v0 = np.sqrt(beta_sq) * c\n",
    "# Background B-field (T)\n",
    "B0 = np.array([0, 0, 1.0])\n",
    "# Switch off Larmor term\n",
    "tau = 0.0"
   ]
  },
  {
   "cell_type": "code",
   "execution_count": null,
   "id": "1ced5ac5",
   "metadata": {},
   "outputs": [],
   "source": [
    "# Initial conditions for the electron\n",
    "ic = [0, 0, 0, v0 * np.cos(theta), 0, v0 * np.sin(theta), 0.0]"
   ]
  },
  {
   "cell_type": "code",
   "execution_count": null,
   "id": "0a7cf09e",
   "metadata": {},
   "outputs": [],
   "source": [
    "# Set up coil calculation. Coil in X-Y plane, centred on (0,0)\n",
    "Ny = 51\n",
    "Nz = 101\n",
    "Ntheta = 101\n",
    "Rcoil = 0.005\n",
    "I = 40\n",
    "\n",
    "coil = Coil_Field(Ntheta, R=Rcoil, I=I)\n",
    "\n",
    "# Mesh for plotting field\n",
    "ygrid = np.linspace(-0.025,0.025,Ny)\n",
    "zgrid = np.linspace(-0.025,0.025,Nz)\n",
    "\n",
    "Y, Z = np.meshgrid(ygrid, zgrid)"
   ]
  },
  {
   "cell_type": "code",
   "execution_count": null,
   "id": "de294968",
   "metadata": {},
   "outputs": [],
   "source": [
    "bx = np.zeros_like(Y)\n",
    "by = np.zeros_like(Y)\n",
    "bz = np.zeros_like(Y)\n",
    "\n",
    "for i in range(Nz):\n",
    "    for j in range(Ny):\n",
    "        x = 0.0\n",
    "        y = ygrid[j]\n",
    "        z = zgrid[i]\n",
    "        \n",
    "        bx[i,j], by[i,j], bz[i,j] = coil.evaluate_field_at_point(x, y, z)"
   ]
  },
  {
   "cell_type": "code",
   "execution_count": null,
   "id": "07aad663",
   "metadata": {},
   "outputs": [],
   "source": [
    "# Position of two coils\n",
    "zc1 = -0.01\n",
    "zc2 = 0.01\n",
    "\n",
    "bath = Bath_Tub_Field(Ntheta, R=Rcoil, I=I, Z1 = zc1, Z2 = zc2)"
   ]
  },
  {
   "cell_type": "code",
   "execution_count": null,
   "id": "1b76afef",
   "metadata": {},
   "outputs": [],
   "source": [
    "for i in range(Nz):\n",
    "    for j in range(Ny):\n",
    "        x = 0.0\n",
    "        y = ygrid[j]\n",
    "        z = zgrid[i]\n",
    "        \n",
    "        bx[i,j], by[i,j], bz[i,j] = bath.evaluate_field_at_point(x, y, z)"
   ]
  },
  {
   "cell_type": "code",
   "execution_count": null,
   "id": "078dec1d",
   "metadata": {},
   "outputs": [],
   "source": [
    "%%time\n",
    "# This is -slow- takes around 20 minutes\n",
    "qtnm_bottle = Bath_Tub_Field(Ntheta, R=Rcoil, I=I, Z1 = zc1, Z2 = zc2, background=B0)\n",
    "res1 = solve_3d(300, b0=B0, v0=v0, mass=me, charge=-qe, tau=tau,\n",
    "                calc_b_field=qtnm_bottle.evaluate_field_at_point, ic=ic)\n",
    "print('Final simulated time = %.4Es' % res1.t[-1])"
   ]
  },
  {
   "cell_type": "code",
   "execution_count": null,
   "id": "7bbe8622",
   "metadata": {},
   "outputs": [],
   "source": [
    "%%time\n",
    "# Let's check if a higher CFL number can be used\n",
    "# CFL defined here such that we have 1 / CFL time-steps per orbit\n",
    "res2 = solve_3d(300, b0=B0, v0=v0, mass=me, charge=-qe, tau=tau,\n",
    "                calc_b_field=qtnm_bottle.evaluate_field_at_point, ic=ic, cfl=1e-2)\n",
    "print('Final simulated time = %.4Es' % res2.t[-1])"
   ]
  },
  {
   "cell_type": "code",
   "execution_count": null,
   "id": "33e46137",
   "metadata": {},
   "outputs": [],
   "source": [
    "# Compare the vertical motion of the two runs\n",
    "plt.plot(res1.t, res1.y[2], label='CFL = 1e-3')\n",
    "plt.plot(res2.t, res2.y[2], linestyle='--', label='CFL = 1e-2')\n",
    "plt.legend()"
   ]
  },
  {
   "cell_type": "markdown",
   "id": "376e1483",
   "metadata": {},
   "source": [
    "## Seems identical. Drop CFL to 0.01?\n",
    "\n",
    "## Let's set-up a different trap, that doesn't restrict the electrons to the beam region"
   ]
  },
  {
   "cell_type": "code",
   "execution_count": null,
   "id": "762a4eb4",
   "metadata": {},
   "outputs": [],
   "source": [
    "zc1 = -0.03\n",
    "zc2 = 0.03\n",
    "qtnm_bottle = Bath_Tub_Field(Ntheta, R=Rcoil, I=I, Z1 = zc1, Z2 = zc2, background=B0)"
   ]
  },
  {
   "cell_type": "code",
   "execution_count": null,
   "id": "320d54c9",
   "metadata": {},
   "outputs": [],
   "source": [
    "%%time\n",
    "res3 = solve_3d(300, b0=B0, v0=v0, mass=me, charge=-qe, tau=tau,\n",
    "                calc_b_field=qtnm_bottle.evaluate_field_at_point, ic=ic, cfl=1e-2)\n",
    "print('Final simulated time = %.4Es' % res3.t[-1])"
   ]
  },
  {
   "cell_type": "code",
   "execution_count": null,
   "id": "c660afdd",
   "metadata": {},
   "outputs": [],
   "source": [
    "# Need a larger mesh to plot the field for\n",
    "\n",
    "ygrid = np.linspace(-0.05,0.05,Ny)\n",
    "zgrid = np.linspace(-0.05,0.05,Nz)\n",
    "Y, Z = np.meshgrid(ygrid, zgrid)\n",
    "\n",
    "\n",
    "for i in range(Nz):\n",
    "    for j in range(Ny):\n",
    "        x = 0.0\n",
    "        y = ygrid[j]\n",
    "        z = zgrid[i]\n",
    "        \n",
    "        bx[i,j], by[i,j], bz[i,j] = qtnm_bottle.evaluate_field_at_point(x, y, z) - B0\n",
    "\n",
    "x = res3.y[0]\n",
    "y = res3.y[1]\n",
    "z = res3.y[2]\n",
    "\n",
    "plt.streamplot(Y, Z, by, bz, color=\"blue\", linewidth=0.1, density=2)\n",
    "plt.plot(-Rcoil,zc1, markersize=3, marker='o', color='orange', alpha=0.75)\n",
    "plt.plot(Rcoil,zc1, markersize=3, marker='o', color='orange', alpha=0.75)\n",
    "plt.plot(-Rcoil,zc2, markersize=3, marker='o', color='orange', alpha=0.75)\n",
    "plt.plot(Rcoil,zc2, markersize=3, marker='o', color='orange', alpha=0.75)\n",
    "plt.axhspan(-0.005, 0.005, color='grey', alpha=0.5)\n",
    "ax = plt.gca()\n",
    "t2 = ax.text(\n",
    "    -0.0325, 0, \"Beam\", ha=\"center\", va=\"center\", rotation=0, size=15, color='black',\n",
    "    bbox=dict(boxstyle=\"rarrow,pad=0.3\", fc=\"cyan\", ec=\"cyan\", lw=2,alpha=1.0))\n",
    "\n",
    "plt.yticks([-0.015,-0.05,0.05,0.015])\n",
    "ax.spines['right'].set_visible(False)\n",
    "ax.spines['top'].set_visible(False)\n",
    "\n",
    "xtrace = x[::2000]\n",
    "ztrace = z[::2000]\n",
    "plt.plot(xtrace, ztrace, alpha = 0.25)\n",
    "\n",
    "plt.xlim(ygrid[0], ygrid[-1])\n",
    "plt.ylim(zgrid[0], zgrid[-1])\n",
    "plt.tight_layout()"
   ]
  },
  {
   "cell_type": "code",
   "execution_count": null,
   "id": "750f2eca",
   "metadata": {},
   "outputs": [],
   "source": [
    "# Check what sort of range of vertical field the electron has experienced\n",
    "plt.plot(zgrid[:], bz[:,25])\n",
    "plt.axvspan(res3.y[2][0], res3.y[2][-1], color='blue', alpha=0.5)"
   ]
  },
  {
   "cell_type": "code",
   "execution_count": null,
   "id": "0fe35ad5",
   "metadata": {},
   "outputs": [],
   "source": [
    "%%time\n",
    "\n",
    "# Let's run for longer, and check the electron was actually trapped.\n",
    "# Again, this is -slow- ~ 20 minutes\n",
    "res4 = solve_3d(3000, b0=B0, v0=v0, mass=me, charge=-qe, tau=tau,\n",
    "                calc_b_field=qtnm_bottle.evaluate_field_at_point, ic=ic, cfl=1e-2)\n",
    "print('Final simulated time = %.4Es' % res4.t[-1])"
   ]
  },
  {
   "cell_type": "code",
   "execution_count": null,
   "id": "2bf87305",
   "metadata": {},
   "outputs": [],
   "source": [
    "x = res4.y[0]\n",
    "y = res4.y[1]\n",
    "z = res4.y[2]\n",
    "\n",
    "plt.streamplot(Y, Z, by, bz, color=\"blue\", linewidth=0.1, density=2)\n",
    "plt.plot(-Rcoil,zc1, markersize=3, marker='o', color='orange', alpha=0.75)\n",
    "plt.plot(Rcoil,zc1, markersize=3, marker='o', color='orange', alpha=0.75)\n",
    "plt.plot(-Rcoil,zc2, markersize=3, marker='o', color='orange', alpha=0.75)\n",
    "plt.plot(Rcoil,zc2, markersize=3, marker='o', color='orange', alpha=0.75)\n",
    "plt.axhspan(-0.005, 0.005, color='grey', alpha=0.5)\n",
    "ax = plt.gca()\n",
    "t2 = ax.text(\n",
    "    -0.0325, 0, \"Beam\", ha=\"center\", va=\"center\", rotation=0, size=15, color='black',\n",
    "    bbox=dict(boxstyle=\"rarrow,pad=0.3\", fc=\"cyan\", ec=\"cyan\", lw=2,alpha=1.0))\n",
    "\n",
    "plt.yticks([-0.015,-0.05,0.05,0.015])\n",
    "ax.spines['right'].set_visible(False)\n",
    "ax.spines['top'].set_visible(False)\n",
    "\n",
    "xtrace = x[::2000]\n",
    "ztrace = z[::2000]\n",
    "plt.plot(xtrace, ztrace, alpha = 0.25)\n",
    "\n",
    "plt.xlim(ygrid[0], ygrid[-1])\n",
    "plt.ylim(zgrid[0], zgrid[-1])\n",
    "plt.tight_layout()"
   ]
  },
  {
   "cell_type": "code",
   "execution_count": null,
   "id": "bc512e1a",
   "metadata": {},
   "outputs": [],
   "source": [
    "%%time\n",
    "## How bad can we go with the CFL number? 10 time steps per orbit?\n",
    "res5 = solve_3d(3000, b0=B0, v0=v0, mass=me, charge=-qe, tau=tau,\n",
    "                calc_b_field=qtnm_bottle.evaluate_field_at_point, ic=ic, cfl=1e-1)\n",
    "print('Final simulated time = %.4Es' % res5.t[-1])"
   ]
  },
  {
   "cell_type": "code",
   "execution_count": null,
   "id": "6ad758bd",
   "metadata": {},
   "outputs": [],
   "source": [
    "# Seems not terrible?\n",
    "plt.plot(res4.t, res4.y[2])\n",
    "plt.plot(res5.t, res5.y[2], linestyle='--')"
   ]
  }
 ],
 "metadata": {
  "kernelspec": {
   "display_name": "Python 3",
   "language": "python",
   "name": "python3"
  },
  "language_info": {
   "codemirror_mode": {
    "name": "ipython",
    "version": 3
   },
   "file_extension": ".py",
   "mimetype": "text/x-python",
   "name": "python",
   "nbconvert_exporter": "python",
   "pygments_lexer": "ipython3",
   "version": "3.9.4"
  }
 },
 "nbformat": 4,
 "nbformat_minor": 5
}
