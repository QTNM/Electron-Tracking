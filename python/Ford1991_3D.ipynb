{
 "cells": [
  {
   "cell_type": "code",
   "execution_count": null,
   "metadata": {},
   "outputs": [],
   "source": [
    "import numpy as np\n",
    "import matplotlib.pyplot as plt\n",
    "from ford1991 import Ford1991Solver\n",
    "from mpl_toolkits.mplot3d import Axes3D\n",
    "from utils import error_plot"
   ]
  },
  {
   "cell_type": "code",
   "execution_count": null,
   "metadata": {},
   "outputs": [],
   "source": [
    "%run config.py"
   ]
  },
  {
   "cell_type": "markdown",
   "metadata": {},
   "source": [
    "# 3D $\\vec{v}\\times\\vec{B}$ acceleration:\n",
    "\n",
    "\\begin{equation*}\n",
    "a_{\\mathrm{Lorentz}} = \\vec{v} \\times \\vec{\\omega}\n",
    "\\end{equation*}\n",
    "\n",
    "where\n",
    "\n",
    "\\begin{equation*}\n",
    "\\vec{\\omega} = \\begin{pmatrix}\n",
    "\\frac{q B_x}{m} \\\\ \\frac{q B_y}{m} \\\\ \\frac{q B_z}{m}\n",
    "\\end{pmatrix}\n",
    "\\end{equation*}"
   ]
  },
  {
   "cell_type": "markdown",
   "metadata": {},
   "source": [
    "## Ford & O'Connel (1991) results in the following system of equations:\n",
    "\n",
    "\\begin{equation*}\n",
    "\\begin{pmatrix}\n",
    "1 & -\\tau \\omega_z & \\tau \\omega_y \\\\\n",
    "\\tau \\omega_z & 1 & -\\tau \\omega_x \\\\\n",
    "-\\tau \\omega_y & \\tau \\omega_x & 1\n",
    "\\end{pmatrix}\n",
    "\\begin{pmatrix}\n",
    "a_x \\\\ a_y \\\\ a_z\n",
    "\\end{pmatrix} \n",
    "= \\vec{v} \\times \\vec{\\omega}\n",
    "\\end{equation*}"
   ]
  },
  {
   "cell_type": "markdown",
   "metadata": {},
   "source": [
    "## Determinant of the matrix is $1 + \\tau^2 \\omega^2$"
   ]
  },
  {
   "cell_type": "markdown",
   "metadata": {},
   "source": [
    "## Inverse given by:\n",
    "\n",
    "\\begin{equation*}\n",
    "M^{-1} = \\frac{1}{1 + \\tau^2 \\omega^2}\n",
    "\\begin{pmatrix}\n",
    "1 + \\tau^2 \\omega_x^2 & \\tau^2 \\omega_x \\omega_y + \\tau \\omega_z & \\tau^2 \\omega_x \\omega_z - \\tau \\omega_y\\\\\n",
    "\\tau^2 \\omega_x \\omega_y - \\tau \\omega_z & 1 + \\tau^2 \\omega_y^2 & \\tau^2 \\omega_y \\omega_z + \\tau \\omega_x\\\\\n",
    "\\tau^2 \\omega_x \\omega_z + \\tau \\omega_y & \\tau^2 \\omega_z \\omega_y - \\tau \\omega_x & 1 + \\tau^2 \\omega_z^2\n",
    "\\end{pmatrix}\n",
    "\\end{equation*}"
   ]
  },
  {
   "cell_type": "markdown",
   "metadata": {},
   "source": [
    "## So general form is:\n",
    "\n",
    "\\begin{align*}\n",
    "\\left(1 + \\tau^2 \\omega^2\\right) a_x &= \\omega_z v_y - \\omega_y v_z  - \\tau(\\omega_z^2 + \\omega_y^2) v_x + \\tau \\omega_x (\\omega_z v_z + \\omega_y v_y) \\\\\n",
    "\\left(1 + \\tau^2 \\omega^2\\right) a_y &= \\omega_x v_z - \\omega_z v_x  - \\tau(\\omega_z^2 + \\omega_x^2) v_y + \\tau \\omega_y (\\omega_z v_z + \\omega_x v_x)\\\\\n",
    "\\left(1 + \\tau^2 \\omega^2\\right) a_z &= \\omega_y v_x - \\omega_y v_x  - \\tau(\\omega_x^2 + \\omega_y^2) v_z + \\tau \\omega_z (\\omega_x v_x + \\omega_y v_y)\\\\\n",
    "\\end{align*}"
   ]
  },
  {
   "cell_type": "markdown",
   "metadata": {},
   "source": [
    "## Solution to this is constant velocity in the direction of the magnetic field, plus rotation around."
   ]
  },
  {
   "cell_type": "code",
   "execution_count": null,
   "metadata": {},
   "outputs": [],
   "source": [
    "# Test values\n",
    "B = [0, 0, 1]\n",
    "vel = [0, 1, 1]\n",
    "q = 1\n",
    "m = 1\n",
    "tau = 0.025\n",
    "\n",
    "solver = Ford1991Solver(charge=q, mass=m, b_field=B, tau=tau)"
   ]
  },
  {
   "cell_type": "code",
   "execution_count": null,
   "metadata": {},
   "outputs": [],
   "source": [
    "bmag = np.linalg.norm(B)\n",
    "omega = bmag * q / m\n",
    "\n",
    "# Calculate track for 3 rotations\n",
    "time = np.linspace(0, 6.0 * np.pi / omega, 100)\n",
    "x, y, z, _, _, _ = solver.analytic_solution(time)\n",
    "\n",
    "# Plot results\n",
    "fig = plt.figure(figsize=[18,12])\n",
    "ax0 = fig.add_subplot(1,3,1, projection='3d')\n",
    "ax0.plot(x, y, z)\n",
    "ax0.view_init(elev=15, azim=-30)\n",
    "ax1 = fig.add_subplot(1,3,2, projection='3d')\n",
    "ax1.plot(x, y, z)\n",
    "ax1.view_init(elev=0, azim=90)\n",
    "ax2 = fig.add_subplot(1,3,3, projection='3d')\n",
    "ax2.plot(x, y, z)\n",
    "ax2.view_init(elev=90, azim=0)"
   ]
  },
  {
   "cell_type": "code",
   "execution_count": null,
   "metadata": {},
   "outputs": [],
   "source": [
    "B = [0, 1, 0]\n",
    "vel = [0,1,1]\n",
    "bmag = np.linalg.norm(B)\n",
    "omega = bmag * q / m\n",
    "\n",
    "# Calculate track for 3 rotations\n",
    "time = np.linspace(0, 6.0 * np.pi / omega, 100)\n",
    "solver = Ford1991Solver(charge=q, mass=m, b_field=B, tau=tau)\n",
    "x, y, z, _, _, _ = solver.analytic_solution(time, v0=vel)\n",
    "\n",
    "# Plot results\n",
    "fig = plt.figure(figsize=[18,12])\n",
    "ax0 = fig.add_subplot(1,3,1, projection='3d')\n",
    "ax0.plot(x, y, z)\n",
    "ax0.view_init(elev=15, azim=-30)\n",
    "ax1 = fig.add_subplot(1,3,2, projection='3d')\n",
    "ax1.plot(x, y, z)\n",
    "ax1.view_init(elev=0, azim=90)\n",
    "ax2 = fig.add_subplot(1,3,3, projection='3d')\n",
    "ax2.plot(x, y, z)\n",
    "ax2.view_init(elev=90, azim=0)"
   ]
  },
  {
   "cell_type": "code",
   "execution_count": null,
   "metadata": {},
   "outputs": [],
   "source": [
    "B = [0, 1, 1]\n",
    "vel=[1,1,0]\n",
    "bmag = np.linalg.norm(B)\n",
    "omega = bmag * q / m\n",
    "\n",
    "# Calculate track for 3 rotations\n",
    "time = np.linspace(0, 6.0 * np.pi / omega, 100)\n",
    "solver = Ford1991Solver(charge=q, mass=m, b_field=B, tau=tau)\n",
    "x, y, z, _, _, _ = solver.analytic_solution(time, v0=vel)\n",
    "\n",
    "# Plot results\n",
    "fig = plt.figure(figsize=[18,12])\n",
    "ax0 = fig.add_subplot(1,3,1, projection='3d')\n",
    "ax0.plot(x, y, z)\n",
    "ax0.view_init(elev=15, azim=-30)\n",
    "ax0.set_xlabel('x')\n",
    "ax0.set_ylabel('y')\n",
    "ax0.set_zlabel('z')\n",
    "ax1 = fig.add_subplot(1,3,2, projection='3d')\n",
    "ax1.plot(x, y, z)\n",
    "ax1.view_init(elev=0, azim=90)\n",
    "ax2 = fig.add_subplot(1,3,3, projection='3d')\n",
    "ax2.plot(x, y, z)\n",
    "ax2.view_init(elev=90, azim=0)"
   ]
  },
  {
   "cell_type": "code",
   "execution_count": null,
   "metadata": {},
   "outputs": [],
   "source": [
    "B = np.array([0, 0, 1])\n",
    "solver = Ford1991Solver(charge=q, mass=m, b_field=B, tau=tau)\n",
    "vel0 = np.array([0,1,1])\n",
    "res = solver.solve(3, v0=vel0)\n",
    "x = res.y[0]\n",
    "y = res.y[1]\n",
    "z = res.y[2]\n",
    "fig = plt.figure(figsize=[18,12])\n",
    "ax0 = fig.add_subplot(1,3,1, projection='3d')\n",
    "ax0.plot(x, y, z)\n",
    "ax0.view_init(elev=15, azim=-30)\n",
    "ax1 = fig.add_subplot(1,3,2, projection='3d')\n",
    "ax1.plot(x, y, z)\n",
    "ax1.view_init(elev=0, azim=90)\n",
    "ax2 = fig.add_subplot(1,3,3, projection='3d')\n",
    "ax2.plot(x, y, z)\n",
    "ax2.view_init(elev=90, azim=0)"
   ]
  },
  {
   "cell_type": "code",
   "execution_count": null,
   "metadata": {},
   "outputs": [],
   "source": [
    "B = np.array([0, 1, 0])\n",
    "solver = Ford1991Solver(charge=q, mass=m, b_field=B, tau=tau)\n",
    "vel0 = np.array([0,1,1])\n",
    "res = solver.solve(3, v0=vel0)\n",
    "x = res.y[0]\n",
    "y = res.y[1]\n",
    "z = res.y[2]\n",
    "fig = plt.figure(figsize=[18,12])\n",
    "ax0 = fig.add_subplot(1,3,1, projection='3d')\n",
    "ax0.plot(x, y, z)\n",
    "ax0.view_init(elev=15, azim=-30)\n",
    "ax1 = fig.add_subplot(1,3,2, projection='3d')\n",
    "ax1.plot(x, y, z)\n",
    "ax1.view_init(elev=0, azim=90)\n",
    "ax2 = fig.add_subplot(1,3,3, projection='3d')\n",
    "ax2.plot(x, y, z)\n",
    "ax2.view_init(elev=90, azim=0)"
   ]
  },
  {
   "cell_type": "code",
   "execution_count": null,
   "metadata": {},
   "outputs": [],
   "source": [
    "B = np.array([0, 1, 1])\n",
    "solver = Ford1991Solver(charge=q, mass=m, b_field=B, tau=tau)\n",
    "vel0 = np.array([1,1,0])\n",
    "res = solver.solve(3, v0=vel0)\n",
    "x = res.y[0]\n",
    "y = res.y[1]\n",
    "z = res.y[2]\n",
    "fig = plt.figure(figsize=[18,12])\n",
    "ax0 = fig.add_subplot(1,3,1, projection='3d')\n",
    "ax0.plot(x, y, z)\n",
    "ax0.view_init(elev=15, azim=-30)\n",
    "ax1 = fig.add_subplot(1,3,2, projection='3d')\n",
    "ax1.plot(x, y, z)\n",
    "ax1.view_init(elev=0, azim=90)\n",
    "ax2 = fig.add_subplot(1,3,3, projection='3d')\n",
    "ax2.plot(x, y, z)\n",
    "ax2.view_init(elev=90, azim=0)\n",
    "ax2.set_xlabel('x')\n",
    "ax2.set_ylabel('y')\n",
    "ax2.set_zlabel('z')"
   ]
  },
  {
   "cell_type": "code",
   "execution_count": null,
   "metadata": {},
   "outputs": [],
   "source": [
    "x, y, z, vx, vy, vz = solver.analytic_solution(res.t, v0=vel0)\n",
    "error_plot(res.t, res.y[0], y_exact=x, ylabel='x', xlabel='t')"
   ]
  },
  {
   "cell_type": "code",
   "execution_count": null,
   "metadata": {},
   "outputs": [],
   "source": [
    "error_plot(res.t, res.y[1], y_exact=y, ylabel='y', xlabel='t')"
   ]
  },
  {
   "cell_type": "code",
   "execution_count": null,
   "metadata": {},
   "outputs": [],
   "source": [
    "error_plot(res.t, res.y[2], y_exact=z, ylabel='z', xlabel='t')"
   ]
  },
  {
   "cell_type": "code",
   "execution_count": null,
   "metadata": {},
   "outputs": [],
   "source": [
    "plt.plot(res.t, res.y[0] - x, label='Error(x)')\n",
    "plt.plot(res.t, res.y[1] - y, label='Error(y)')\n",
    "plt.plot(res.t, res.y[2] - z, label='Error(z)')\n",
    "plt.xlim(left=0.0)\n",
    "plt.legend()\n",
    "plt.tight_layout()"
   ]
  },
  {
   "cell_type": "code",
   "execution_count": null,
   "metadata": {},
   "outputs": [],
   "source": [
    "# Try non-default initial position\n",
    "x0 = np.ones(3)\n",
    "res = solver.solve(3, x0=x0, v0=vel0)\n",
    "x, y, z, vx, vy, vz = solver.analytic_solution(res.t, x0=x0, v0=vel0)"
   ]
  },
  {
   "cell_type": "code",
   "execution_count": null,
   "metadata": {},
   "outputs": [],
   "source": [
    "plt.plot(res.t, res.y[0] - x, label='Error(x)')\n",
    "plt.plot(res.t, res.y[1] - y, label='Error(y)')\n",
    "plt.plot(res.t, res.y[2] - z, label='Error(z)')\n",
    "plt.xlim(left=0.0)\n",
    "plt.legend()\n",
    "plt.tight_layout()"
   ]
  }
 ],
 "metadata": {
  "kernelspec": {
   "display_name": "Python 3",
   "language": "python",
   "name": "python3"
  },
  "language_info": {
   "codemirror_mode": {
    "name": "ipython",
    "version": 3
   },
   "file_extension": ".py",
   "mimetype": "text/x-python",
   "name": "python",
   "nbconvert_exporter": "python",
   "pygments_lexer": "ipython3",
   "version": "3.9.4"
  }
 },
 "nbformat": 4,
 "nbformat_minor": 4
}
