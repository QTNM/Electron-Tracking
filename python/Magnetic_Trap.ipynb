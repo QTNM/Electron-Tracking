{
 "cells": [
  {
   "cell_type": "markdown",
   "id": "7ee8e643",
   "metadata": {},
   "source": [
    "# Notebook contains a simple possible magnetic trap configuration"
   ]
  },
  {
   "cell_type": "code",
   "execution_count": null,
   "id": "875e59e4",
   "metadata": {},
   "outputs": [],
   "source": [
    "%run config.py"
   ]
  },
  {
   "cell_type": "code",
   "execution_count": null,
   "id": "9d95dd4e",
   "metadata": {},
   "outputs": [],
   "source": [
    "from ford1991 import solve_3d\n",
    "from mpl_toolkits import mplot3d\n",
    "from scipy.constants import c, electron_mass as me, elementary_charge as qe, mu_0 as mu0\n",
    "from qtnm_fields import BathTubField"
   ]
  },
  {
   "cell_type": "code",
   "execution_count": null,
   "id": "a5f9e2b5",
   "metadata": {},
   "outputs": [],
   "source": [
    "# Deflection from beam direction in degrees\n",
    "theta_deg = -1\n",
    "theta = np.deg2rad(theta_deg)\n",
    "# Initial kinetic energy (eV)\n",
    "T = 18600\n",
    "# Rel. gamma\n",
    "gamma_rel = T * qe / (me*c**2) + 1\n",
    "# (v/c)^2\n",
    "beta_sq = 1 - 1 / gamma_rel**2\n",
    "# Initial electron speed\n",
    "v0 = np.sqrt(beta_sq) * c\n",
    "# Background B-field (T)\n",
    "B0 = np.array([0, 0, 1.0])\n",
    "# Switch off Larmor term\n",
    "tau = 0.0"
   ]
  },
  {
   "cell_type": "markdown",
   "id": "eff73a24",
   "metadata": {},
   "source": [
    "## Simple simulation. Uniform B-field - perpendicular to beam\n",
    "\n",
    "## Initialise electron with direction -1 degree relative to beam"
   ]
  },
  {
   "cell_type": "code",
   "execution_count": null,
   "id": "0a49c271",
   "metadata": {},
   "outputs": [],
   "source": [
    "ic = [0, 0, 0, v0 * np.cos(theta), 0, v0 * np.sin(theta), 0.0]\n",
    "res = solve_3d(100, b0=B0, v0=v0, mass=me, charge=-qe, tau=tau, ic=ic)"
   ]
  },
  {
   "cell_type": "code",
   "execution_count": null,
   "id": "be810520",
   "metadata": {},
   "outputs": [],
   "source": [
    "## Plot results\n",
    "x = res.y[0]\n",
    "y = res.y[1]\n",
    "z = res.y[2]\n",
    "fig = plt.figure(figsize=[18,12])\n",
    "ax0 = fig.add_subplot(1,3,1, projection='3d')\n",
    "ax0.plot(x, y, z)\n",
    "ax0.view_init(elev=15, azim=-30)\n",
    "ax1 = fig.add_subplot(1,3,2, projection='3d')\n",
    "ax1.plot(x, y, z)\n",
    "ax1.view_init(elev=0, azim=90)\n",
    "ax2 = fig.add_subplot(1,3,3, projection='3d')\n",
    "ax2.plot(x, y, z)\n",
    "ax2.view_init(elev=90, azim=0)"
   ]
  },
  {
   "cell_type": "code",
   "execution_count": null,
   "id": "24290a49",
   "metadata": {},
   "outputs": [],
   "source": [
    "plt.axhspan(-0.5, 0.5, color='grey', alpha=0.25)\n",
    "plt.ylim(-2,2.75)\n",
    "\n",
    "ax = plt.gca()\n",
    "\n",
    "xp = np.linspace(0.1,1,10)\n",
    "\n",
    "for b in xp:\n",
    "    ax.annotate('', xy=(b, -2), xytext=(0, 130), textcoords='offset points', \n",
    "                arrowprops=dict(arrowstyle=\"<|-\", color='blue'), color='blue')\n",
    "    \n",
    "t = ax.text(\n",
    "    0.875, 0, \"Beam\", ha=\"center\", va=\"center\", rotation=0, size=15,\n",
    "    bbox=dict(boxstyle=\"rarrow,pad=0.3\", fc=\"cyan\", ec=\"cyan\", lw=2))\n",
    "t2 = ax.text(\n",
    "    0.125, 0, \"Beam\", ha=\"center\", va=\"center\", rotation=0, size=15, color='cyan',\n",
    "    bbox=dict(boxstyle=\"rarrow,pad=0.3\", fc=\"cyan\", ec=\"cyan\", lw=2))\n",
    "plt.text(0.475, 2.125, r'$B_z$', color='blue', fontsize=14)\n",
    "\n",
    "xtrace = x[::2000] * 100 + 0.5\n",
    "ztrace = z[::2000] * 100\n",
    "plt.plot(xtrace, ztrace, alpha = 0.25)\n",
    "plt.xlim(0,1.05)\n",
    "plt.yticks([-1.5,-0.5,0.5,1.5])\n",
    "ax.spines['right'].set_visible(False)\n",
    "ax.spines['top'].set_visible(False)\n",
    "\n",
    "ax.annotate('Electron emitted here', xy=(0.5, 0), xytext=(5, 30), textcoords='offset points', \n",
    "                arrowprops=dict(arrowstyle=\"-|>\", color='red'), color='red',\n",
    "           bbox=dict(boxstyle=\"round\", fc=\"white\", ec=\"red\", lw=0.1))\n",
    "\n",
    "plt.title('Schematic of Initial simulation', fontsize=16)\n",
    "\n",
    "plt.tight_layout()\n",
    "plt.gcf().savefig('beam_sketch.png')"
   ]
  },
  {
   "cell_type": "code",
   "execution_count": null,
   "id": "640dcc65",
   "metadata": {},
   "outputs": [],
   "source": [
    "# Set up coil calculation. Coil in X-Y plane, centred on (0,0)\n",
    "Ny = 51\n",
    "Nz = 101\n",
    "Ntheta = 101\n",
    "Rcoil = 0.005\n",
    "I = 40\n",
    "\n",
    "# Set up a QTNM like field, with coils at +/- 3cm\n",
    "zc1 = -0.03\n",
    "zc2 = 0.03\n",
    "qtnm_bottle = BathTubField(Ntheta, R=Rcoil, I=I, Z1 = zc1, Z2 = zc2, background=B0)"
   ]
  },
  {
   "cell_type": "code",
   "execution_count": null,
   "id": "470989a3",
   "metadata": {},
   "outputs": [],
   "source": [
    "# Mesh for plotting field\n",
    "ygrid = np.linspace(-0.05,0.05,Ny)\n",
    "zgrid = np.linspace(-0.05,0.05,Nz)\n",
    "\n",
    "Y, Z = np.meshgrid(ygrid, zgrid)\n",
    "\n",
    "bx = np.zeros_like(Y)\n",
    "by = np.zeros_like(Y)\n",
    "bz = np.zeros_like(Y)\n",
    "\n",
    "# For plotting purposes subtract background back off\n",
    "for i in range(Nz):\n",
    "    for j in range(Ny):\n",
    "        x = 0.0\n",
    "        y = ygrid[j]\n",
    "        z = zgrid[i]\n",
    "        \n",
    "        bx[i,j], by[i,j], bz[i,j] = qtnm_bottle.evaluate_field_at_point(x, y, z) - B0"
   ]
  },
  {
   "cell_type": "code",
   "execution_count": null,
   "id": "6737167b",
   "metadata": {},
   "outputs": [],
   "source": [
    "%%time\n",
    "res1 = solve_3d(3000, b0=B0, v0=v0, mass=me, charge=-qe, tau=tau,\n",
    "                calc_b_field=qtnm_bottle.evaluate_field_at_point, ic=ic, cfl=1e-1)\n",
    "print('Final simulated time = %.4Es' % res1.t[-1])"
   ]
  },
  {
   "cell_type": "code",
   "execution_count": null,
   "id": "bc385e67",
   "metadata": {},
   "outputs": [],
   "source": [
    "x = res1.y[0]\n",
    "y = res1.y[1]\n",
    "z = res1.y[2]\n",
    "incr = 10 # Plot every 10th point of trace\n",
    "\n",
    "plt.streamplot(Y, Z, by, bz, color=\"blue\", linewidth=0.1, density=2)\n",
    "plt.plot(-Rcoil,zc1, markersize=3, marker='o', color='orange', alpha=0.75)\n",
    "plt.plot(Rcoil,zc1, markersize=3, marker='o', color='orange', alpha=0.75)\n",
    "plt.plot(-Rcoil,zc2, markersize=3, marker='o', color='orange', alpha=0.75)\n",
    "plt.plot(Rcoil,zc2, markersize=3, marker='o', color='orange', alpha=0.75)\n",
    "plt.axhspan(-0.005, 0.005, color='grey', alpha=0.5)\n",
    "ax = plt.gca()\n",
    "t2 = ax.text(\n",
    "    -0.0325, 0, \"Beam\", ha=\"center\", va=\"center\", rotation=0, size=15, color='black',\n",
    "    bbox=dict(boxstyle=\"rarrow,pad=0.3\", fc=\"cyan\", ec=\"cyan\", lw=2,alpha=1.0))\n",
    "\n",
    "plt.yticks([-0.015,-0.05,0.05,0.015])\n",
    "ax.spines['right'].set_visible(False)\n",
    "ax.spines['top'].set_visible(False)\n",
    "\n",
    "xtrace = x[::incr]\n",
    "ztrace = z[::incr]\n",
    "plt.plot(xtrace, ztrace, alpha = 0.25)\n",
    "\n",
    "plt.xlim(ygrid[0], ygrid[-1])\n",
    "plt.ylim(zgrid[0], zgrid[-1])\n",
    "plt.tight_layout()"
   ]
  },
  {
   "cell_type": "code",
   "execution_count": null,
   "id": "eae5a2aa",
   "metadata": {},
   "outputs": [],
   "source": [
    "# Check what sort of range of vertical field the electron has experienced\n",
    "plt.plot(zgrid[:], bz[:,25])\n",
    "plt.axvspan(np.min(res1.y[2]), np.max(res1.y[2]), color='blue', alpha=0.5)"
   ]
  },
  {
   "cell_type": "code",
   "execution_count": null,
   "id": "ddbc32d6",
   "metadata": {},
   "outputs": [],
   "source": [
    "# Check turning point B-field\n",
    "t_initial = 0.5 * np.pi - np.deg2rad(1.0)\n",
    "b_initial = qtnm_bottle.evaluate_field_at_point(0,0,0)[2]\n",
    "print(b_initial)\n",
    "b_turning = np.cos(t_initial)**2\n",
    "print((1.0 + b_turning) * b_initial)\n",
    "print(qtnm_bottle.evaluate_field_at_point(0,0,np.min(res1.y[2]))[2])"
   ]
  },
  {
   "cell_type": "code",
   "execution_count": null,
   "id": "a9583497",
   "metadata": {},
   "outputs": [],
   "source": [
    "# All looks promising for trapped electron\n",
    "# Check vertical motion\n",
    "plt.plot(res1.t, res1.y[2])\n",
    "plt.xlim(res1.t[0], res1.t[-1])\n",
    "plt.xlabel('t(s)', fontsize=14)\n",
    "plt.ylabel('z(m)', fontsize=14)\n",
    "plt.title('Vertical motion of trapped electron')\n",
    "plt.tight_layout()"
   ]
  },
  {
   "cell_type": "code",
   "execution_count": null,
   "id": "ef3517ae",
   "metadata": {},
   "outputs": [],
   "source": [
    "%%time\n",
    "\n",
    "# Shift electron 1cm back\n",
    "ic = [-0.01, 0, 0, v0 * np.cos(theta), 0, v0 * np.sin(theta), 0.0]\n",
    "res2 = solve_3d(3000, b0=B0, v0=v0, mass=me, charge=-qe, tau=tau,\n",
    "                calc_b_field=qtnm_bottle.evaluate_field_at_point, ic=ic, cfl=1e-1)\n",
    "print('Final simulated time = %.4Es' % res2.t[-1])"
   ]
  },
  {
   "cell_type": "code",
   "execution_count": null,
   "id": "169758bc",
   "metadata": {},
   "outputs": [],
   "source": [
    "x = res2.y[0]\n",
    "y = res2.y[1]\n",
    "z = res2.y[2]\n",
    "\n",
    "plt.streamplot(Y, Z, by, bz, color=\"blue\", linewidth=0.1, density=2)\n",
    "plt.plot(-Rcoil,zc1, markersize=3, marker='o', color='orange', alpha=0.75)\n",
    "plt.plot(Rcoil,zc1, markersize=3, marker='o', color='orange', alpha=0.75)\n",
    "plt.plot(-Rcoil,zc2, markersize=3, marker='o', color='orange', alpha=0.75)\n",
    "plt.plot(Rcoil,zc2, markersize=3, marker='o', color='orange', alpha=0.75)\n",
    "plt.axhspan(-0.005, 0.005, color='grey', alpha=0.5)\n",
    "ax = plt.gca()\n",
    "t2 = ax.text(\n",
    "    -0.0325, 0, \"Beam\", ha=\"center\", va=\"center\", rotation=0, size=15, color='black',\n",
    "    bbox=dict(boxstyle=\"rarrow,pad=0.3\", fc=\"cyan\", ec=\"cyan\", lw=2,alpha=1.0))\n",
    "\n",
    "plt.yticks([-0.015,-0.05,0.05,0.015])\n",
    "ax.spines['right'].set_visible(False)\n",
    "ax.spines['top'].set_visible(False)\n",
    "\n",
    "xtrace = x[::incr]\n",
    "ztrace = z[::incr]\n",
    "plt.plot(xtrace, ztrace, alpha = 0.25)\n",
    "\n",
    "plt.xlim(ygrid[0], ygrid[-1])\n",
    "plt.ylim(zgrid[0], zgrid[-1])\n",
    "plt.tight_layout()"
   ]
  },
  {
   "cell_type": "code",
   "execution_count": null,
   "id": "947fcc82",
   "metadata": {},
   "outputs": [],
   "source": [
    "%%time\n",
    "\n",
    "# Last one not trapped. Try closer\n",
    "ic = [-0.005, 0, 0, v0 * np.cos(theta), 0, v0 * np.sin(theta), 0.0]\n",
    "res3 = solve_3d(3000, b0=B0, v0=v0, mass=me, charge=-qe, tau=tau,\n",
    "                calc_b_field=qtnm_bottle.evaluate_field_at_point, ic=ic, cfl=1e-1)\n",
    "print('Final simulated time = %.4Es' % res3.t[-1])"
   ]
  },
  {
   "cell_type": "code",
   "execution_count": null,
   "id": "287b9654",
   "metadata": {},
   "outputs": [],
   "source": [
    "x = res3.y[0]\n",
    "y = res3.y[1]\n",
    "z = res3.y[2]\n",
    "\n",
    "plt.streamplot(Y, Z, by, bz, color=\"blue\", linewidth=0.1, density=2)\n",
    "plt.plot(-Rcoil,zc1, markersize=3, marker='o', color='orange', alpha=0.75)\n",
    "plt.plot(Rcoil,zc1, markersize=3, marker='o', color='orange', alpha=0.75)\n",
    "plt.plot(-Rcoil,zc2, markersize=3, marker='o', color='orange', alpha=0.75)\n",
    "plt.plot(Rcoil,zc2, markersize=3, marker='o', color='orange', alpha=0.75)\n",
    "plt.axhspan(-0.005, 0.005, color='grey', alpha=0.5)\n",
    "ax = plt.gca()\n",
    "t2 = ax.text(\n",
    "    -0.0325, 0, \"Beam\", ha=\"center\", va=\"center\", rotation=0, size=15, color='black',\n",
    "    bbox=dict(boxstyle=\"rarrow,pad=0.3\", fc=\"cyan\", ec=\"cyan\", lw=2,alpha=1.0))\n",
    "\n",
    "plt.yticks([-0.015,-0.05,0.05,0.015])\n",
    "ax.spines['right'].set_visible(False)\n",
    "ax.spines['top'].set_visible(False)\n",
    "\n",
    "xtrace = x[::incr]\n",
    "ztrace = z[::incr]\n",
    "plt.plot(xtrace, ztrace, alpha = 0.25)\n",
    "\n",
    "plt.xlim(ygrid[0], ygrid[-1])\n",
    "plt.ylim(zgrid[0], zgrid[-1])\n",
    "plt.tight_layout()"
   ]
  },
  {
   "cell_type": "code",
   "execution_count": null,
   "id": "6062df36",
   "metadata": {},
   "outputs": [],
   "source": [
    "## Compare our two trapped particles\n",
    "plt.plot(res3.t, res3.y[2], label='x(t=0) = -0.5cm')\n",
    "plt.plot(res1.t, res1.y[2], label='x(t=0) = 0')\n",
    "plt.xlim(res1.t[0], res1.t[-1])\n",
    "plt.xlabel('t(s)', fontsize=14)\n",
    "plt.ylabel('z(m)', fontsize=14)\n",
    "plt.title('Vertical motion of trapped electrons')\n",
    "plt.legend(loc='upper left')\n",
    "plt.gcf().set_size_inches(6,4)\n",
    "plt.tight_layout()"
   ]
  },
  {
   "cell_type": "code",
   "execution_count": null,
   "id": "8497e18c",
   "metadata": {},
   "outputs": [],
   "source": [
    "## Compare our two trapped particles\n",
    "plt.plot(res3.t, res3.y[5], label='x(t=0) = -0.5cm')\n",
    "plt.plot(res1.t, res1.y[5], label='x(t=0) = 0')\n",
    "plt.xlim(res1.t[0], res1.t[-1])\n",
    "plt.xlabel('t(s)', fontsize=14)\n",
    "plt.ylabel('vz(m)', fontsize=14)\n",
    "plt.title('Vertical motion of trapped electrons')\n",
    "plt.legend(loc='upper left')\n",
    "plt.gcf().set_size_inches(6,4)\n",
    "plt.tight_layout()"
   ]
  },
  {
   "cell_type": "code",
   "execution_count": null,
   "id": "c9ae779f",
   "metadata": {},
   "outputs": [],
   "source": [
    "# Let's try different starting angles\n",
    "list_res = []\n",
    "for theta_deg in np.arange(1,6):\n",
    "    theta = np.deg2rad(-theta_deg)\n",
    "    ic = [0, 0, 0, v0 * np.cos(theta), 0, v0 * np.sin(theta), 0.0]\n",
    "    res_ = solve_3d(3000, b0=B0, v0=v0, mass=me, charge=-qe, tau=tau,\n",
    "                    calc_b_field=qtnm_bottle.evaluate_field_at_point, ic=ic, cfl=1e-1)\n",
    "    list_res.append(res_)\n",
    "    # Add print statement to monitor progress\n",
    "    print('Final simulated time = %.4Es' % res_.t[-1])"
   ]
  },
  {
   "cell_type": "code",
   "execution_count": null,
   "id": "43843acc",
   "metadata": {},
   "outputs": [],
   "source": [
    "i = 1\n",
    "for r in list_res:\n",
    "    plt.plot(r.t, r.y[2], label='theta = ' + str(i))\n",
    "    i+=1\n",
    "    \n",
    "plt.legend(ncol=2)\n",
    "plt.xlabel('t(s)', fontsize=14)\n",
    "plt.ylabel('z(m)', fontsize=14)\n",
    "plt.ylim(bottom=-0.1)\n",
    "plt.tight_layout()"
   ]
  }
 ],
 "metadata": {
  "kernelspec": {
   "display_name": "Python 3",
   "language": "python",
   "name": "python3"
  },
  "language_info": {
   "codemirror_mode": {
    "name": "ipython",
    "version": 3
   },
   "file_extension": ".py",
   "mimetype": "text/x-python",
   "name": "python",
   "nbconvert_exporter": "python",
   "pygments_lexer": "ipython3",
   "version": "3.9.4"
  }
 },
 "nbformat": 4,
 "nbformat_minor": 5
}
