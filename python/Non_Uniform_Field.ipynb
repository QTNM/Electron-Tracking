{
 "cells": [
  {
   "cell_type": "code",
   "execution_count": null,
   "id": "62acfffe",
   "metadata": {},
   "outputs": [],
   "source": [
    "%run config.py\n",
    "\n",
    "from utils import error_plot, calculate_omega\n",
    "from ford1991 import analytic_solution, solve"
   ]
  },
  {
   "cell_type": "code",
   "execution_count": null,
   "id": "8f97ecdb",
   "metadata": {},
   "outputs": [],
   "source": [
    "def linear_bfield(x):\n",
    "    return 1.5 + 0.05*x[0]"
   ]
  },
  {
   "cell_type": "code",
   "execution_count": null,
   "id": "6d79954f",
   "metadata": {},
   "outputs": [],
   "source": [
    "# Problem parameters. Not real values\n",
    "B = 1.5\n",
    "m = 3\n",
    "q = -1\n",
    "tau = 0.0"
   ]
  },
  {
   "cell_type": "code",
   "execution_count": null,
   "id": "35d21dde",
   "metadata": {},
   "outputs": [],
   "source": [
    "res = solve(5, b0=B, mass=m, charge=q, tau=tau, calc_b_field=linear_bfield)\n",
    "\n",
    "plt.plot(res.y[0], res.y[1])"
   ]
  },
  {
   "cell_type": "code",
   "execution_count": null,
   "id": "653f965e",
   "metadata": {},
   "outputs": [],
   "source": [
    "plt.plot(res.t, res.y[1])\n",
    "\n",
    "v0 = 1.0\n",
    "# Gyroradius\n",
    "rho = np.abs(m * v0 / B / q)\n",
    "omega = calculate_omega(B, charge=q, energy=0.0, mass=m)\n",
    "# |grad B drift| = |\\nabla B| = 0.5 * v_{\\perp} * rho |nabla B| B / B^2\n",
    "vdrift = 0.5 * v0 * rho * 0.05 / np.abs(B)\n",
    "plt.plot(res.t, -res.t * vdrift, linestyle='--')\n",
    "plt.plot(res.t, 1.0 / omega - res.t * vdrift, linestyle='--')\n",
    "plt.plot(res.t, -1.0 / omega - res.t * vdrift, linestyle='--')\n",
    "plt.xlim(left=0.0)"
   ]
  },
  {
   "cell_type": "code",
   "execution_count": null,
   "id": "35c4e370",
   "metadata": {},
   "outputs": [],
   "source": [
    "def linear_bfieldxy(x):\n",
    "    return 1.5 + 0.05*(x[0] + x[1])"
   ]
  },
  {
   "cell_type": "code",
   "execution_count": null,
   "id": "dd5e53e6",
   "metadata": {},
   "outputs": [],
   "source": [
    "res = solve(5, b0=B, mass=m, charge=q, tau=tau, calc_b_field=linear_bfieldxy)\n",
    "\n",
    "plt.plot(res.y[0], res.y[1])"
   ]
  },
  {
   "cell_type": "code",
   "execution_count": null,
   "id": "2619cd33",
   "metadata": {},
   "outputs": [],
   "source": [
    "plt.plot(res.t, res.y[1])\n",
    "\n",
    "plt.plot(res.t, -res.t * vdrift, linestyle='--', color='black')\n",
    "plt.plot(res.t, 1.0 / omega - res.t * vdrift, linestyle='--', color='black')\n",
    "plt.plot(res.t, -1.0 / omega - res.t * vdrift, linestyle='--', color='black')\n",
    "plt.xlim(left=0.0)"
   ]
  },
  {
   "cell_type": "code",
   "execution_count": null,
   "id": "ffaecafd",
   "metadata": {},
   "outputs": [],
   "source": [
    "plt.plot(res.t, res.y[0])\n",
    "\n",
    "plt.plot(res.t, +res.t * vdrift, linestyle='--', color='black')\n",
    "plt.plot(res.t, 1.0 / omega + res.t * vdrift, linestyle='--', color='black')\n",
    "plt.plot(res.t, -1.0 / omega + res.t * vdrift, linestyle='--', color='black')\n",
    "plt.xlim(left=0.0)"
   ]
  }
 ],
 "metadata": {
  "kernelspec": {
   "display_name": "Python 3",
   "language": "python",
   "name": "python3"
  },
  "language_info": {
   "codemirror_mode": {
    "name": "ipython",
    "version": 3
   },
   "file_extension": ".py",
   "mimetype": "text/x-python",
   "name": "python",
   "nbconvert_exporter": "python",
   "pygments_lexer": "ipython3",
   "version": "3.9.4"
  }
 },
 "nbformat": 4,
 "nbformat_minor": 5
}
