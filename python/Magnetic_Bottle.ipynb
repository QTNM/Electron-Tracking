{
 "cells": [
  {
   "cell_type": "code",
   "execution_count": null,
   "id": "a0985598",
   "metadata": {},
   "outputs": [],
   "source": [
    "%run config.py"
   ]
  },
  {
   "cell_type": "code",
   "execution_count": null,
   "id": "c8ed3a0d",
   "metadata": {},
   "outputs": [],
   "source": [
    "from scipy.constants import elementary_charge as qe, electron_mass as me, proton_mass as mp, mu_0 as mu0\n",
    "from ford1991 import solve_3d\n",
    "from mpl_toolkits import mplot3d\n",
    "from matplotlib import ticker\n",
    "import matplotlib.colors as colors"
   ]
  },
  {
   "cell_type": "markdown",
   "id": "8a9e17b4",
   "metadata": {},
   "source": [
    "## Create an approximate magnetic bottle by combining two dipole fields.\n",
    "\n",
    "Concept from:\n",
    "\n",
    "https://uio-ccse.github.io/computational-essay-showroom/essays/exercises/essayseeds/MagneticBottle_Numpy.html\n",
    "\n",
    "Could be made faster by using JIT(compilation) from numba, as in original source.\n",
    "Computing arrays of field values, the numpy implementation below is quicker, however for large numbers of pointwise\n",
    "calculations (as needed by particle push), the jit option is faster."
   ]
  },
  {
   "cell_type": "code",
   "execution_count": null,
   "id": "02ac2021",
   "metadata": {},
   "outputs": [],
   "source": [
    "# Magnetic moment vector\n",
    "mu = 1e4 * np.array([0,0,1])\n",
    "\n",
    "# Switch off Larmor term\n",
    "tau = 0.0\n",
    "\n",
    "# 3D domain\n",
    "x = np.linspace(-10,10,201)\n",
    "y = np.linspace(-10,10,201)\n",
    "z = np.linspace(-10,10,201)"
   ]
  },
  {
   "cell_type": "code",
   "execution_count": null,
   "id": "80bf883a",
   "metadata": {},
   "outputs": [],
   "source": [
    "def dipole_field(x, y, z, mu, z0=0.0):\n",
    "    # Coordinates with origin defined at z0\n",
    "    _x = x\n",
    "    _y = y\n",
    "    _z = z - z0\n",
    "    \n",
    "    X, Y, Z = np.meshgrid(_x, _y, _z, indexing='ij')\n",
    "\n",
    "    # Array of positions\n",
    "    r = np.array([X, Y, Z])\n",
    "    \n",
    "    rmag2 = np.sum(r*r, axis=0)\n",
    "    rmag = np.sqrt(rmag2)\n",
    "    rmag3 = rmag2 * rmag + 1e-30\n",
    "    rmag5 = rmag3 * rmag2 + 1e-30\n",
    "    \n",
    "    # Perhaps there are nicer ways to do this?\n",
    "    mudotr = mu[0] * r[0,:,:,:] + mu[1] * r[1,:,:,:] + mu[2] * r[2,:,:,:]\n",
    "\n",
    "    b1 = 3.0 * r * mudotr / rmag5\n",
    "    b2 = - np.array([mu[0] / rmag3, mu[1] / rmag3, mu[2] / rmag3])\n",
    "    \n",
    "    return  np.squeeze(b1 + b2) * (mu0 / 4.0 / np.pi)"
   ]
  },
  {
   "cell_type": "code",
   "execution_count": null,
   "id": "b51e743f",
   "metadata": {},
   "outputs": [],
   "source": [
    "def bottle_field(x, y, z, mu=1e4 * np.array([0,0,1])):\n",
    "    b1 = dipole_field(x, y, z, mu, z0=10)\n",
    "    b2 = dipole_field(x, y, z, mu, z0=-10)\n",
    "    \n",
    "    return b1 + b2"
   ]
  },
  {
   "cell_type": "code",
   "execution_count": null,
   "id": "cecd6f05",
   "metadata": {},
   "outputs": [],
   "source": [
    "btot = bottle_field(x, y, z, mu)\n",
    "\n",
    "# Plot field at x = 0\n",
    "x0 = np.argmin(np.abs(x))\n",
    "Y, Z = np.meshgrid(y, z)\n",
    "# Transpose for plotting\n",
    "by = np.transpose(btot[1,x0,:,:])\n",
    "bz = np.transpose(btot[2,x0,:,:])\n",
    "plt.streamplot(Y, Z, by, bz)\n",
    "plt.xlim(-10.0,10.0)\n",
    "plt.ylim(-10.0,10.0)"
   ]
  },
  {
   "cell_type": "code",
   "execution_count": null,
   "id": "29104f42",
   "metadata": {},
   "outputs": [],
   "source": [
    "# Test for trace alpha particle\n",
    "m = 4.0*mp\n",
    "q = 2.0*qe\n",
    "\n",
    "# Initial conditions\n",
    "r0 = np.array([0.0, -5.0, 0.0])\n",
    "v0 = np.array([0.0, 0.0, 100.0])"
   ]
  },
  {
   "cell_type": "code",
   "execution_count": null,
   "id": "a158eafe",
   "metadata": {},
   "outputs": [],
   "source": [
    "%%time\n",
    "\n",
    "b0 = bottle_field(r0[0], r0[1], r0[2], mu)\n",
    "ic = (r0[0], r0[1], r0[2], v0[0], v0[1], v0[2], 0.0)\n",
    "res = solve_3d(25, b0=b0, v0=v0, mass=m, charge=q, tau=tau, calc_b_field=bottle_field, ic=ic)\n",
    "print('Final simulated time = %.4fs' % res.t[-1])"
   ]
  },
  {
   "cell_type": "code",
   "execution_count": null,
   "id": "c2a33702",
   "metadata": {},
   "outputs": [],
   "source": [
    "# Plot field through x=0 plane\n",
    "by = np.transpose(btot[1,x0,:,:])\n",
    "bz = np.transpose(btot[2,x0,:,:])\n",
    "plt.streamplot(Y,Z, by, bz, color=\"black\")\n",
    "plt.plot(res.y[1], res.y[2])\n",
    "plt.xlim(-10.0,10.0)\n",
    "plt.ylim(-10.0,10.0)\n",
    "plt.xlabel(\"$y$\")\n",
    "plt.ylabel(\"$z$\")\n",
    "plt.gcf().set_size_inches([8,8])"
   ]
  },
  {
   "cell_type": "code",
   "execution_count": null,
   "id": "58c7645d",
   "metadata": {},
   "outputs": [],
   "source": [
    "%%time\n",
    "\n",
    "# Test for electron.\n",
    "m = me\n",
    "q = -qe\n",
    "\n",
    "# Increase initial velocity\n",
    "v0 = np.array([0.0, 0.0, 5e5])\n",
    "\n",
    "ic = (r0[0], r0[1], r0[2], v0[0], v0[1], v0[2], 0.0)\n",
    "res = solve_3d(25, b0=b0, v0=v0, mass=m, charge=q, tau=tau, calc_b_field=bottle_field, ic=ic)\n",
    "print('Final simulated time = %.4fs' % res.t[-1])"
   ]
  },
  {
   "cell_type": "code",
   "execution_count": null,
   "id": "3cb7def9",
   "metadata": {},
   "outputs": [],
   "source": [
    "# Plot x=0 plane\n",
    "plt.streamplot(Y,Z, by, bz, color=\"black\")\n",
    "plt.plot(res.y[1], res.y[2])\n",
    "plt.xlim(-10.0,10.0)\n",
    "plt.ylim(-10.0,10.0)\n",
    "plt.xlabel(\"$y$\")\n",
    "plt.ylabel(\"$z$\")\n",
    "plt.gcf().set_size_inches([8,8])"
   ]
  },
  {
   "cell_type": "code",
   "execution_count": null,
   "id": "5ae9527c",
   "metadata": {},
   "outputs": [],
   "source": [
    "# Now plot y = 0 plane\n",
    "X, Z = np.meshgrid(x, z)\n",
    "y0 = np.argmin(np.abs(y))\n",
    "bx = np.transpose(btot[0,:,y0,:])\n",
    "bz = np.transpose(btot[2,:,y0,:])\n",
    "plt.streamplot(X,Z, bx, bz, color=\"black\")\n",
    "plt.plot(res.y[0], res.y[2])\n",
    "plt.xlim(-10.0,10.0)\n",
    "plt.ylim(-10.0,10.0)\n",
    "plt.xlabel(\"$x$\")\n",
    "plt.ylabel(\"$z$\")\n",
    "plt.gcf().set_size_inches([8,8])"
   ]
  },
  {
   "cell_type": "code",
   "execution_count": null,
   "id": "403dc696",
   "metadata": {},
   "outputs": [],
   "source": [
    "# Trace magnetic field lines starting at (x0, y0, z0)\n",
    "def trace_field(x0, y0, z0, zmax=7.5, nmax=1000, eps=1e-1):\n",
    "    x = [x0]\n",
    "    y = [y0]\n",
    "    z = [z0]\n",
    "    \n",
    "    for i in range(nmax):\n",
    "        b = bottle_field(x[-1], y[-1], z[-1])\n",
    "        b /= np.linalg.norm(b)\n",
    "        x.append(x[-1] + b[0]*eps)\n",
    "        y.append(y[-1] + b[1]*eps)\n",
    "        z.append(z[-1] + b[2]*eps)\n",
    "        if np.abs(z[-1]) > zmax:\n",
    "            break\n",
    "        \n",
    "    return [x, y, z]"
   ]
  },
  {
   "cell_type": "code",
   "execution_count": null,
   "id": "18b6a04b",
   "metadata": {},
   "outputs": [],
   "source": [
    "# A not very general purpose field tracing routine.\n",
    "# Ideally zmax = z0, but few field lines make it into the domain\n",
    "# More generally would be better to automatically move into domain\n",
    "# rather than using eps to switch signs.\n",
    "def get_field_lines(eps=1e-2, nmax=100000, zmax = 9.0, z0=7.5):\n",
    "    lines = []\n",
    "    # Sample these points + origin, from top and bottom of domain\n",
    "    rad = np.linspace(0.5, 3, 6)\n",
    "    theta = np.linspace(0, 2*np.pi*9/10, 10)\n",
    "\n",
    "    lines.append(trace_field(0,0,-z0, zmax=zmax, eps=eps, nmax=nmax))\n",
    "    for r in rad:\n",
    "        for t in theta:\n",
    "            x0 = r * np.cos(t)\n",
    "            y0 = r * np.sin(t)\n",
    "            lines.append(trace_field(x0,y0,-z0, zmax=zmax, eps=eps, nmax=nmax))\n",
    "\n",
    "    # Now trace lines from top\n",
    "    lines.append(trace_field(0,0,z0, zmax=zmax, eps=-eps, nmax=nmax))\n",
    "    for r in rad:\n",
    "        for t in theta:\n",
    "            x0 = r * np.cos(t)\n",
    "            y0 = r * np.sin(t)\n",
    "            lines.append(trace_field(x0,y0,z0, zmax=zmax, eps=-eps, nmax=nmax))\n",
    "            \n",
    "    return lines"
   ]
  },
  {
   "cell_type": "code",
   "execution_count": null,
   "id": "15796338",
   "metadata": {},
   "outputs": [],
   "source": [
    "zlim = 9.0\n",
    "lines = get_field_lines(zmax = zlim)"
   ]
  },
  {
   "cell_type": "code",
   "execution_count": null,
   "id": "90b13a90",
   "metadata": {},
   "outputs": [],
   "source": [
    "fig = plt.figure(figsize =(20, 20))\n",
    "ax = plt.axes(projection ='3d')\n",
    "cmap = plt.get_cmap('Oranges')\n",
    "X2, Y2 = np.meshgrid(x,y)\n",
    "\n",
    "# Bottom layer\n",
    "z0 = -zlim\n",
    "iz0 = np.argmin(np.abs(z - z0))\n",
    "vmin = np.min(-btot[2,:,:,iz0])\n",
    "vmax = np.max(-btot[2,:,:,iz0])\n",
    "vmax = max(vmax, -vmin)\n",
    "cset = plt.contourf(X2, Y2, btot[2,:,:,iz0], cmap=cmap, alpha=0.5, vmin=-vmax, vmax=vmax, zdir='z', offset=z0)\n",
    "\n",
    "# Top layer\n",
    "z0 = zlim\n",
    "iz0 = np.argmin(np.abs(z - z0))\n",
    "vmin = np.min(btot[2,:,:,iz0])\n",
    "vmax = np.max(btot[2,:,:,iz0])\n",
    "# Symmetric limit look nicer for plotting\n",
    "vmax = max(vmax, -vmin)\n",
    "cset = plt.contourf(X2, Y2, btot[2,:,:,iz0], cmap=cmap, alpha=0.5, vmin=-vmax, vmax=vmax, zdir='z', offset=z0)\n",
    "\n",
    "fig.colorbar(cset, fraction=0.025, pad=0)\n",
    "\n",
    "for l in lines:\n",
    "    ax.plot(l[0],l[1],l[2], color='blue', alpha=0.25)\n",
    "    \n",
    "ax.plot(res.y[0], res.y[1], res.y[2], color='red')\n",
    "\n",
    "ax.set_xlim3d(-10, 10)\n",
    "ax.set_ylim3d(-10, 10)\n",
    "ax.set_zlim3d(-zlim, zlim)\n",
    "ax.view_init(elev=15, azim=45)"
   ]
  }
 ],
 "metadata": {
  "kernelspec": {
   "display_name": "Python 3",
   "language": "python",
   "name": "python3"
  },
  "language_info": {
   "codemirror_mode": {
    "name": "ipython",
    "version": 3
   },
   "file_extension": ".py",
   "mimetype": "text/x-python",
   "name": "python",
   "nbconvert_exporter": "python",
   "pygments_lexer": "ipython3",
   "version": "3.9.4"
  }
 },
 "nbformat": 4,
 "nbformat_minor": 5
}
