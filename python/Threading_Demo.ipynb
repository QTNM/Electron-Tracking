{
 "cells": [
  {
   "cell_type": "markdown",
   "id": "24cee08d",
   "metadata": {},
   "source": [
    "## Threading Demo.\n",
    "\n",
    "This notebook demonstrates how to carry out parameter scans using threading.\n",
    "It also performs some basic analysis based on a parameter scan of the initial\n",
    "electron angle."
   ]
  },
  {
   "cell_type": "code",
   "execution_count": null,
   "id": "d00d6289",
   "metadata": {},
   "outputs": [],
   "source": [
    "%run config.py"
   ]
  },
  {
   "cell_type": "code",
   "execution_count": null,
   "id": "954af6af",
   "metadata": {},
   "outputs": [],
   "source": [
    "from ford1991 import Ford1991Solver\n",
    "from lorentz import LorentzSolver\n",
    "from qtnm_fields import BathTubField\n",
    "from scipy.constants import c, electron_mass as me, elementary_charge as qe, mu_0 as mu0\n",
    "from trace import trace_theta\n",
    "import concurrent.futures\n",
    "from functools import partial\n",
    "import copy"
   ]
  },
  {
   "cell_type": "code",
   "execution_count": null,
   "id": "c95a5f27",
   "metadata": {},
   "outputs": [],
   "source": [
    "# Initial kinetic energy (eV)\n",
    "T = 18600\n",
    "# Rel. gamma\n",
    "gamma_rel = T * qe / (me*c**2) + 1\n",
    "# (v/c)^2\n",
    "beta_sq = 1 - 1 / gamma_rel**2\n",
    "# Initial electron speed\n",
    "v0 = np.sqrt(beta_sq) * c\n",
    "# Background B-field (T)\n",
    "B0 = np.array([0, 0, 1.0])\n",
    "\n",
    "# Distance between coils\n",
    "coil_distance = 0.5\n",
    "# Coil radius\n",
    "r_coil = 0.03"
   ]
  },
  {
   "cell_type": "code",
   "execution_count": null,
   "id": "cca1a5f7",
   "metadata": {},
   "outputs": [],
   "source": [
    "# Some helper functions\n",
    "def current_from_b(b):\n",
    "    return 2.0 * r_coil * b / mu0\n",
    "\n",
    "def on_axis_field(z, current):\n",
    "    return mu0 * current * r_coil**2 / (2.0 * (r_coil**2 + z**2)**(1.5))\n",
    "\n",
    "def zfromb(b, current):\n",
    "    tmp = (mu0 * r_coil**2 * current / 2.0 / b)**(2.0/3.0)\n",
    "    if tmp < r_coil**2:\n",
    "        return 0.0\n",
    "    return np.sqrt(tmp - r_coil**2)"
   ]
  },
  {
   "cell_type": "code",
   "execution_count": null,
   "id": "e07c6823",
   "metadata": {},
   "outputs": [],
   "source": [
    "# Set up coil calculation. Coil in X-Y plane, centred on (0,0)\n",
    "Ny = 51\n",
    "Nz = 101\n",
    "\n",
    "# Require an 86 degree limit, assuming a mid-point field of 1T\n",
    "deltaB = np.cos(np.deg2rad(86))**2\n",
    "print('Delta B = %.4f' % deltaB)\n",
    "\n",
    "# Calculate current such that peak B = 4mT\n",
    "current = 2.0 * deltaB * r_coil / mu0\n",
    "print('Total current = %.4f' % current)\n",
    "\n",
    "# Set up a QTNM like field, with coils at +/- 3cm\n",
    "zc1 = -0.5*coil_distance\n",
    "zc2 = 0.5*coil_distance\n",
    "qtnm_bottle = BathTubField(radius=r_coil, current=current, Z1 = zc1, Z2 = zc2, background=B0)\n",
    "print('Max field perturbation = %.4E' % (qtnm_bottle.evaluate_field(0,0,zc1)[2] - 1))"
   ]
  },
  {
   "cell_type": "code",
   "execution_count": null,
   "id": "ad83ac1c",
   "metadata": {},
   "outputs": [],
   "source": [
    "# Set-up Ford solver\n",
    "ford_solver = Ford1991Solver(calc_b_field=qtnm_bottle.evaluate_field)"
   ]
  },
  {
   "cell_type": "code",
   "execution_count": null,
   "id": "f7882577",
   "metadata": {},
   "outputs": [],
   "source": [
    "# Set up partial function\n",
    "trace_theta_p = partial(trace_theta, solver=ford_solver, v0=v0, nrot=1e4)"
   ]
  },
  {
   "cell_type": "code",
   "execution_count": null,
   "id": "2c96eb72",
   "metadata": {},
   "outputs": [],
   "source": [
    "# Test trace for theta = -1 degree\n",
    "res = trace_theta_p(-np.deg2rad(1.0))"
   ]
  },
  {
   "cell_type": "code",
   "execution_count": null,
   "id": "69593535",
   "metadata": {},
   "outputs": [],
   "source": [
    "# Calculate field on 2D slice\n",
    "ygrid = np.linspace(-0.05,0.05,Ny)\n",
    "zgrid = np.linspace(1.1*zc1,1.1*zc2,Nz)\n",
    "\n",
    "Y, Z = np.meshgrid(ygrid, zgrid)\n",
    "\n",
    "bx = np.zeros_like(Y)\n",
    "by = np.zeros_like(Y)\n",
    "bz = np.zeros_like(Y)\n",
    "\n",
    "# For plotting purposes subtract background back off\n",
    "for i in range(Nz):\n",
    "    for j in range(Ny):\n",
    "        x = 0.0\n",
    "        y = ygrid[j]\n",
    "        z = zgrid[i]\n",
    "        \n",
    "        bx[i,j], by[i,j], bz[i,j] = qtnm_bottle.evaluate_field(x, y, z) - B0"
   ]
  },
  {
   "cell_type": "code",
   "execution_count": null,
   "id": "cade0a87",
   "metadata": {},
   "outputs": [],
   "source": [
    "x = res.y[0]\n",
    "y = res.y[1]\n",
    "z = res.y[2]\n",
    "incr = 10 # Plot every 10th point of trace\n",
    "\n",
    "plt.streamplot(Y, Z, by, bz, color=\"blue\", linewidth=0.1, density=2)\n",
    "plt.plot(-r_coil,zc1, markersize=3, marker='o', color='orange', alpha=0.75)\n",
    "plt.plot(r_coil,zc1, markersize=3, marker='o', color='orange', alpha=0.75)\n",
    "plt.plot(-r_coil,zc2, markersize=3, marker='o', color='orange', alpha=0.75)\n",
    "plt.plot(r_coil,zc2, markersize=3, marker='o', color='orange', alpha=0.75)\n",
    "ax = plt.gca()\n",
    "\n",
    "xtrace = x[::incr]\n",
    "ztrace = z[::incr]\n",
    "plt.plot(xtrace, ztrace, alpha = 0.25, color='red')\n",
    "\n",
    "plt.xlim(ygrid[0], ygrid[-1])\n",
    "plt.ylim(zgrid[0], zgrid[-1])\n",
    "plt.xlabel(r'$z(m)$')\n",
    "plt.ylabel(r'$y(m)$')\n",
    "plt.tight_layout()"
   ]
  },
  {
   "cell_type": "code",
   "execution_count": null,
   "id": "b194b43d",
   "metadata": {},
   "outputs": [],
   "source": [
    "# Check what sort of range of vertical field the electron has experienced\n",
    "plt.plot(zgrid[:], bz[:,25])\n",
    "plt.axvspan(np.min(res.y[2]), np.max(res.y[2]), color='blue', alpha=0.5)"
   ]
  },
  {
   "cell_type": "code",
   "execution_count": null,
   "id": "891098bc",
   "metadata": {},
   "outputs": [],
   "source": [
    "# Does this match expectation?\n",
    "# Note our values of theta defined relative to beam\n",
    "# Check turning point B-field\n",
    "t_initial = 0.5 * np.pi - np.deg2rad(1.0) # 89 degrees wrt to B-field\n",
    "b_initial = qtnm_bottle.evaluate_field(0,0,0)[2]\n",
    "print(b_initial)\n",
    "b_turning = np.cos(t_initial)**2\n",
    "analytic_turning = (1.0 + b_turning) * b_initial\n",
    "print(analytic_turning)\n",
    "numerical_turning = qtnm_bottle.evaluate_field(0,0,np.min(res.y[2]))[2]\n",
    "print(numerical_turning)\n",
    "print(np.abs(numerical_turning - analytic_turning) / analytic_turning)"
   ]
  },
  {
   "cell_type": "code",
   "execution_count": null,
   "id": "21b595ab",
   "metadata": {},
   "outputs": [],
   "source": [
    "# Range of theta values\n",
    "theta_deg = np.arange(0,5,0.1)\n",
    "theta = np.deg2rad(-theta_deg)"
   ]
  },
  {
   "cell_type": "code",
   "execution_count": null,
   "id": "1037412b",
   "metadata": {},
   "outputs": [],
   "source": [
    "%%time\n",
    "with concurrent.futures.ProcessPoolExecutor(max_workers = 4) as executor:\n",
    "    future = executor.map(trace_theta_p, theta)\n",
    "results = list(future)"
   ]
  },
  {
   "cell_type": "code",
   "execution_count": null,
   "id": "befa742e",
   "metadata": {},
   "outputs": [],
   "source": [
    "# Make a back-up copy\n",
    "results_copy = copy.deepcopy(results)"
   ]
  },
  {
   "cell_type": "code",
   "execution_count": null,
   "id": "12faec72",
   "metadata": {},
   "outputs": [],
   "source": [
    "# Find minimum height for each trace\n",
    "zmax = []\n",
    "for r in results:\n",
    "    zmax.append(np.min(r.y[2]))"
   ]
  },
  {
   "cell_type": "code",
   "execution_count": null,
   "id": "7eaffedc",
   "metadata": {},
   "outputs": [],
   "source": [
    "plt.plot(theta_deg, zmax)\n",
    "plt.ylim(-0.3, 0.025)\n",
    "plt.xlim(0,5)\n",
    "plt.xlabel(r'$\\theta \\mathrm{(deg.)}$')\n",
    "plt.ylabel(r'$\\mathrm{Max.\\; Displ.\\;(m)}$')\n",
    "plt.axhline(-0.25, color='black', linestyle='--')\n",
    "plt.axvline(4.0, color='black', linestyle='--')\n",
    "plt.title(r'$\\mathrm{R_{coil} = 3cm,\\;B_{coil} = 4.9mT}$')\n",
    "plt.tight_layout()"
   ]
  },
  {
   "cell_type": "code",
   "execution_count": null,
   "id": "30b96284",
   "metadata": {},
   "outputs": [],
   "source": [
    "zmax_clip = np.array(zmax).clip(min=-0.25)\n",
    "b_turning_numerical = []\n",
    "for z in zmax_clip:\n",
    "    b_turning_numerical.append(qtnm_bottle.evaluate_field(0,0,np.min(z))[2])\n",
    "b_turning_numerical = np.array(b_turning_numerical)\n",
    "\n",
    "b_turning_theory = []\n",
    "for t in theta:\n",
    "    cos2 = np.sin(t)**2\n",
    "    b_turning_theory.append((1.0 + cos2) * b_initial)\n",
    "b_turning_theory = np.array(b_turning_theory)"
   ]
  },
  {
   "cell_type": "code",
   "execution_count": null,
   "id": "3ff75a71",
   "metadata": {},
   "outputs": [],
   "source": [
    "plt.plot(theta_deg, b_turning_numerical, label='Numerical')\n",
    "plt.plot(theta_deg, b_turning_theory, label='Theory', linestyle='--')"
   ]
  },
  {
   "cell_type": "code",
   "execution_count": null,
   "id": "67dcaf2a",
   "metadata": {},
   "outputs": [],
   "source": [
    "theta_mod = 90 - theta_deg\n",
    "fig, ax = plt.subplots(1,2, figsize=[12,6])\n",
    "ax[0].plot(theta_mod, zmax)\n",
    "ax[0].set_ylim(-0.3, 0.025)\n",
    "ax[0].set_xlim(90,85)\n",
    "ax[0].set_xlabel(r'$\\theta \\mathrm{(deg.)}$')\n",
    "ax[0].set_ylabel(r'$\\mathrm{Max.\\; Displ.\\;(m)}$')\n",
    "ax[0].axhline(-0.25, color='black', linestyle='--')\n",
    "ax[0].axvline(86.0, color='black', linestyle='--')\n",
    "plt.suptitle(r'$\\mathrm{R_{coil} = 3cm,\\;B_{coil} = 4.9mT,\\;L_{Solen.} = 50cm}$')\n",
    "ax[1].plot(theta_mod, b_turning_numerical, label='Numerical')\n",
    "ax[1].plot(theta_mod, b_turning_theory, label='Theory', linestyle='--')\n",
    "ax[1].set_xlabel(r'$\\theta \\mathrm{(deg.)}$')\n",
    "ax[1].set_ylabel(r'$\\mathrm{Max.\\; B.\\;(T)}$')\n",
    "ax[1].set_xlim(90,85)\n",
    "plt.legend()\n",
    "plt.tight_layout()\n",
    "plt.savefig('Theory_Test_86deg.png')"
   ]
  },
  {
   "cell_type": "code",
   "execution_count": null,
   "id": "88718eb1",
   "metadata": {},
   "outputs": [],
   "source": [
    "b_rms = []\n",
    "# Loop over results\n",
    "for ir, r in enumerate(results):\n",
    "    bmag2_tot = 0.0\n",
    "    # Only want to record up to turning point\n",
    "    for i in np.arange(len(r.t)):\n",
    "        bmag2_tot += qtnm_bottle.evaluate_field_magnitude(r.y[0][i],r.y[1][i],r.y[2][i])**2\n",
    "        if r.y[2][i] < -0.25 or r.y[5][i] > 0:\n",
    "            print('Found turning point:', ir, i, r.y[2][i], r.y[5][i])\n",
    "            b_rms.append(np.sqrt(bmag2_tot / (i + 1)))\n",
    "            break\n",
    "        if i == len(r.t) - 1:\n",
    "            print(ir, i, r.y[2][i], r.y[5][i], 'reached end!')\n",
    "            b_rms.append(np.sqrt(bmag2_tot / len(r.t))) "
   ]
  },
  {
   "cell_type": "code",
   "execution_count": null,
   "id": "4057f63e",
   "metadata": {},
   "outputs": [],
   "source": [
    "plt.plot(theta_mod, np.array(b_rms) - 1)\n",
    "plt.ylim(bottom=0)\n",
    "plt.yscale('log')\n",
    "plt.ylim(1e-5,2e-3)\n",
    "plt.xlim(90,85)\n",
    "plt.title('RMS Magnetic field along Electron Path')\n",
    "plt.ylabel(r'$\\sqrt{\\widebar{B^2}} - 1$')\n",
    "plt.xlabel(r'$\\theta \\mathrm{(deg.)}$')\n",
    "plt.tight_layout()\n",
    "plt.savefig('BRMS.png')"
   ]
  },
  {
   "cell_type": "code",
   "execution_count": null,
   "id": "62474b0d",
   "metadata": {},
   "outputs": [],
   "source": [
    "# Set up partial function using Lorentz solver to compare performance\n",
    "lorentz_solver = LorentzSolver(calc_b_field=qtnm_bottle.evaluate_field)\n",
    "trace_theta_lorentz = partial(trace_theta, solver=lorentz_solver, v0=v0, nrot=1e4)"
   ]
  },
  {
   "cell_type": "code",
   "execution_count": null,
   "id": "e74e6e99",
   "metadata": {},
   "outputs": [],
   "source": [
    "%%time\n",
    "with concurrent.futures.ProcessPoolExecutor(max_workers = 4) as executor:\n",
    "    future_lorentz = executor.map(trace_theta_lorentz, theta)\n",
    "results_lorentz = list(future_lorentz)"
   ]
  }
 ],
 "metadata": {
  "kernelspec": {
   "display_name": "Python 3",
   "language": "python",
   "name": "python3"
  },
  "language_info": {
   "codemirror_mode": {
    "name": "ipython",
    "version": 3
   },
   "file_extension": ".py",
   "mimetype": "text/x-python",
   "name": "python",
   "nbconvert_exporter": "python",
   "pygments_lexer": "ipython3",
   "version": "3.9.4"
  }
 },
 "nbformat": 4,
 "nbformat_minor": 5
}
