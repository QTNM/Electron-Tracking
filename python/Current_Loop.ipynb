{
 "cells": [
  {
   "cell_type": "markdown",
   "id": "4a6b7953",
   "metadata": {},
   "source": [
    "# Small notebook documenting interface to magnetic field routines and checking Biot-Savart integration of current loop."
   ]
  },
  {
   "cell_type": "code",
   "execution_count": null,
   "id": "e6d583b4",
   "metadata": {},
   "outputs": [],
   "source": [
    "%run config.py"
   ]
  },
  {
   "cell_type": "code",
   "execution_count": null,
   "id": "ee8f0bea",
   "metadata": {},
   "outputs": [],
   "source": [
    "from qtnm_fields import Coil_Field\n",
    "from scipy.constants import c, electron_mass as me, elementary_charge as qe, mu_0 as mu0"
   ]
  },
  {
   "cell_type": "code",
   "execution_count": null,
   "id": "36a33b12",
   "metadata": {},
   "outputs": [],
   "source": [
    "# Set up coil calculation. Coil in X-Y plane, centred on (0,0)\n",
    "Ny = 51\n",
    "Nz = 101\n",
    "Ntheta = 101\n",
    "Rcoil = 0.005\n",
    "I = 40\n",
    "\n",
    "coil = Coil_Field(Ntheta, R=Rcoil, I=I)\n",
    "\n",
    "# Mesh for plotting field\n",
    "ygrid = np.linspace(-0.025,0.025,Ny)\n",
    "zgrid = np.linspace(-0.025,0.025,Nz)\n",
    "\n",
    "Y, Z = np.meshgrid(ygrid, zgrid)"
   ]
  },
  {
   "cell_type": "code",
   "execution_count": null,
   "id": "3c1d45dd",
   "metadata": {},
   "outputs": [],
   "source": [
    "bx = np.zeros_like(Y)\n",
    "by = np.zeros_like(Y)\n",
    "bz = np.zeros_like(Y)\n",
    "\n",
    "for i in range(Nz):\n",
    "    for j in range(Ny):\n",
    "        x = 0.0\n",
    "        y = ygrid[j]\n",
    "        z = zgrid[i]\n",
    "        \n",
    "        bx[i,j], by[i,j], bz[i,j] = coil.evaluate_field_at_point(x, y, z)"
   ]
  },
  {
   "cell_type": "code",
   "execution_count": null,
   "id": "d395c599",
   "metadata": {},
   "outputs": [],
   "source": [
    "plt.streamplot(Y, Z, by, bz, color=\"black\", linewidth=0.1, density=2)\n",
    "plt.plot(-Rcoil,0, markersize=3, marker='o', color='blue', alpha=0.75)\n",
    "plt.plot(Rcoil,0, markersize=3, marker='o', color='blue', alpha=0.75)\n",
    "plt.xlim(ygrid[0], ygrid[-1])\n",
    "plt.ylim(zgrid[0], zgrid[-1])\n",
    "plt.title('Magnetic field due to loop of wire', fontsize=16)\n",
    "plt.xlabel('Y', fontsize=14)\n",
    "plt.ylabel('Z', fontsize=14)\n",
    "plt.tight_layout()"
   ]
  },
  {
   "cell_type": "markdown",
   "id": "7fb217a3",
   "metadata": {},
   "source": [
    "## Check against known solution on axis"
   ]
  },
  {
   "cell_type": "code",
   "execution_count": null,
   "id": "d9e890b1",
   "metadata": {},
   "outputs": [],
   "source": [
    "# Note - we've adjusted the current to give ~5mT peak field, roughly in line with Project 8\n",
    "\n",
    "plt.plot(zgrid[:], bz[:,25])\n",
    "plt.plot(zgrid, mu0 * I * Rcoil**2 / (2.0 * (Rcoil**2 + zgrid**2)**(1.5)), linestyle='--')\n",
    "plt.ylabel(r'$B_z(T)$', fontsize=14)\n",
    "plt.xlabel(r'$z(m)$', fontsize=14)\n",
    "plt.tight_layout()"
   ]
  }
 ],
 "metadata": {
  "kernelspec": {
   "display_name": "Python 3",
   "language": "python",
   "name": "python3"
  },
  "language_info": {
   "codemirror_mode": {
    "name": "ipython",
    "version": 3
   },
   "file_extension": ".py",
   "mimetype": "text/x-python",
   "name": "python",
   "nbconvert_exporter": "python",
   "pygments_lexer": "ipython3",
   "version": "3.9.4"
  }
 },
 "nbformat": 4,
 "nbformat_minor": 5
}
