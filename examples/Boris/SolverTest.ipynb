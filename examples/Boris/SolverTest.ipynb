{
 "cells": [
  {
   "cell_type": "code",
   "execution_count": null,
   "id": "dde2e99b",
   "metadata": {},
   "outputs": [],
   "source": [
    "import ROOT\n",
    "import numpy as np\n",
    "from scipy.constants import c, electron_mass as me\n",
    "from scipy.constants import elementary_charge as qe, Boltzmann as kb"
   ]
  },
  {
   "cell_type": "code",
   "execution_count": null,
   "id": "801aaffa",
   "metadata": {},
   "outputs": [],
   "source": [
    "def calculate_omega(b_field, charge=-qe, energy=0.0, mass=me):\n",
    "    \"\"\" Calculate cyclotron frequency for a particle in a magnetic field\n",
    "\n",
    "    Args:\n",
    "        b_field: Magnetic Field (Tesla)\n",
    "        charge: Particle charge. Default: electron charge\n",
    "        energy: Particle kinetic energy (KeV). Default: 0.0\n",
    "                (yields non-relativistic result)\n",
    "        mass: Particle mass (Kg). Default: Electron mass\n",
    "    \"\"\"\n",
    "\n",
    "    gamma_m0 = mass + 1e3 * energy * qe / c**2\n",
    "    return charge * np.array(b_field) / gamma_m0"
   ]
  },
  {
   "cell_type": "code",
   "execution_count": null,
   "id": "e481a5f4",
   "metadata": {},
   "outputs": [],
   "source": [
    "def analytic_solution(x0, y0, u0, v0, e0, time):\n",
    "    omega = calculate_omega(1.0, energy=e0)\n",
    "    \n",
    "    # Phase\n",
    "    phase = time * omega + np.arctan2(u0, v0)\n",
    "    # Magnitude of velocity, shouldn't change\n",
    "    vmag = np.sqrt(u0**2 + v0**2)\n",
    "    \n",
    "    u1 = np.sin(phase) * vmag\n",
    "    v1 = np.cos(phase) * vmag\n",
    "    \n",
    "    x1 = x0 - v1 / omega\n",
    "    y1 = y0 + u1 / omega\n",
    "    print('Analytic solution = ', x1, y1)"
   ]
  },
  {
   "cell_type": "code",
   "execution_count": null,
   "id": "9885232a",
   "metadata": {},
   "outputs": [],
   "source": [
    "def process_results(fname=\"build/qtnm.root\"):\n",
    "    inputFile = ROOT.TFile(fname)\n",
    "    itree = inputFile.Get('Setup')\n",
    "    otree = inputFile.Get('Watch')\n",
    "    # Could check here that the number of entries is the same\n",
    "    for i in range(itree.GetEntries()):\n",
    "        itree.GetEntry(i)\n",
    "        otree.GetEntry(i)\n",
    "        # Particle initial positions\n",
    "        x0 = itree.Posx\n",
    "        y0 = itree.Posy\n",
    "        z0 = itree.Posz\n",
    "        # Kinetic energy\n",
    "        e0 = itree.Kine * qe * 1e3 # Joules\n",
    "        gamma0 = e0 / me / c**2 + 1\n",
    "        p0 = np.sqrt((e0 + me * c**2)**2 - (me * c**2)**2) / c\n",
    "\n",
    "        # Initial momenta\n",
    "        px0 = itree.Px * p0\n",
    "        py0 = itree.Py * p0\n",
    "        pz0 = itree.Pz * p0\n",
    "        \n",
    "        # Initial velocities\n",
    "        vx0 = px0 / me / gamma0\n",
    "        vy0 = py0 / me / gamma0\n",
    "        vz0 = pz0 / me / gamma0\n",
    "                \n",
    "        # Particle end position and energy\n",
    "        x1 = otree.Posx\n",
    "        y1 = otree.Posy\n",
    "        z1 = otree.Posz\n",
    "        e1 = otree.Kine * qe * 1e3\n",
    "        gamma1 = e1 / me / c**2 + 1\n",
    "        \n",
    "        # Calculate momentum\n",
    "        p1 = np.sqrt((e1 + me * c**2)**2 - (me * c**2)**2) / c\n",
    "        px1 = otree.Px * p1\n",
    "        py1 = otree.Py * p1\n",
    "        pz1 = otree.Pz * p1\n",
    "\n",
    "        \n",
    "        # End time\n",
    "        t1 = otree.ExitTime * 1e-6\n",
    "\n",
    "        # Get analytic solution\n",
    "        e0_kev = e0 / qe / 1e3\n",
    "        analytic_solution(x0, y0, vx0, vy0, e0_kev, t1)\n",
    "        print('Numerical solution = ', x1, y1)"
   ]
  },
  {
   "cell_type": "code",
   "execution_count": null,
   "id": "4f00d3d6",
   "metadata": {},
   "outputs": [],
   "source": [
    "process_results()"
   ]
  },
  {
   "cell_type": "code",
   "execution_count": null,
   "id": "5fa20ccf",
   "metadata": {},
   "outputs": [],
   "source": []
  }
 ],
 "metadata": {
  "kernelspec": {
   "display_name": "Python 3",
   "language": "python",
   "name": "python3"
  },
  "language_info": {
   "codemirror_mode": {
    "name": "ipython",
    "version": 3
   },
   "file_extension": ".py",
   "mimetype": "text/x-python",
   "name": "python",
   "nbconvert_exporter": "python",
   "pygments_lexer": "ipython3",
   "version": "3.9.4"
  }
 },
 "nbformat": 4,
 "nbformat_minor": 5
}
